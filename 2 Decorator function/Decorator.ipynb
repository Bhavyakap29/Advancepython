{
 "cells": [
  {
   "cell_type": "code",
   "execution_count": 1,
   "metadata": {},
   "outputs": [],
   "source": [
    "def welcome(func):\n",
    "    def wrapper(*args, **kwargs):\n",
    "        print(\"welcome user!\")\n",
    "        res = func(*args, **kwargs)\n",
    "        print(f\"results : {res}\")\n",
    "        print(\"Thank you\")\n",
    "        return res\n",
    "    return wrapper"
   ]
  },
  {
   "cell_type": "code",
   "execution_count": 2,
   "metadata": {},
   "outputs": [],
   "source": [
    "@welcome\n",
    "def simple_intrest(p,n,r):\n",
    "    i = (p*n*r)/100\n",
    "    a = p + i\n",
    "    return i, a"
   ]
  },
  {
   "cell_type": "code",
   "execution_count": 3,
   "metadata": {},
   "outputs": [
    {
     "name": "stdout",
     "output_type": "stream",
     "text": [
      "welcome user!\n",
      "results : (19170.0, 73170.0)\n",
      "Thank you\n"
     ]
    }
   ],
   "source": [
    "#input as kwargs\n",
    "r1 = simple_intrest(p=54000,n=5,r=7.1)"
   ]
  },
  {
   "cell_type": "code",
   "execution_count": 4,
   "metadata": {},
   "outputs": [
    {
     "data": {
      "text/plain": [
       "(19170.0, 73170.0)"
      ]
     },
     "execution_count": 4,
     "metadata": {},
     "output_type": "execute_result"
    }
   ],
   "source": [
    "r1"
   ]
  },
  {
   "cell_type": "code",
   "execution_count": 5,
   "metadata": {},
   "outputs": [
    {
     "name": "stdout",
     "output_type": "stream",
     "text": [
      "welcome user!\n",
      "results : (2475.0, 17475.0)\n",
      "Thank you\n"
     ]
    }
   ],
   "source": [
    "# input as args\n",
    "r2 = simple_intrest(15000,3,5.5)"
   ]
  },
  {
   "cell_type": "code",
   "execution_count": 6,
   "metadata": {},
   "outputs": [
    {
     "data": {
      "text/plain": [
       "(2475.0, 17475.0)"
      ]
     },
     "execution_count": 6,
     "metadata": {},
     "output_type": "execute_result"
    }
   ],
   "source": [
    "r2"
   ]
  },
  {
   "cell_type": "code",
   "execution_count": 7,
   "metadata": {},
   "outputs": [],
   "source": [
    "@welcome\n",
    "def hypotenuse(a,b):\n",
    "    c = (a**2 + b**2)**(1/2)\n",
    "    return c"
   ]
  },
  {
   "cell_type": "code",
   "execution_count": 8,
   "metadata": {},
   "outputs": [
    {
     "name": "stdout",
     "output_type": "stream",
     "text": [
      "welcome user!\n",
      "results : 5.0\n",
      "Thank you\n"
     ]
    }
   ],
   "source": [
    "h1 = hypotenuse(3,4)"
   ]
  },
  {
   "cell_type": "code",
   "execution_count": 9,
   "metadata": {},
   "outputs": [
    {
     "data": {
      "text/plain": [
       "5.0"
      ]
     },
     "execution_count": 9,
     "metadata": {},
     "output_type": "execute_result"
    }
   ],
   "source": [
    "h1"
   ]
  },
  {
   "cell_type": "code",
   "execution_count": 10,
   "metadata": {},
   "outputs": [
    {
     "name": "stdout",
     "output_type": "stream",
     "text": [
      "welcome user!\n",
      "results : 18.179383927955314\n",
      "Thank you\n"
     ]
    }
   ],
   "source": [
    "h2 = hypotenuse(12.5,13.2)"
   ]
  },
  {
   "cell_type": "code",
   "execution_count": 11,
   "metadata": {},
   "outputs": [
    {
     "data": {
      "text/plain": [
       "18.179383927955314"
      ]
     },
     "execution_count": 11,
     "metadata": {},
     "output_type": "execute_result"
    }
   ],
   "source": [
    "h2"
   ]
  },
  {
   "cell_type": "markdown",
   "metadata": {},
   "source": []
  },
  {
   "cell_type": "markdown",
   "metadata": {},
   "source": [
    "### time required code execution"
   ]
  },
  {
   "cell_type": "code",
   "execution_count": 12,
   "metadata": {},
   "outputs": [],
   "source": [
    "import time"
   ]
  },
  {
   "cell_type": "code",
   "execution_count": 13,
   "metadata": {},
   "outputs": [
    {
     "name": "stdout",
     "output_type": "stream",
     "text": [
      "Hello!\n"
     ]
    }
   ],
   "source": [
    "time.sleep(5)\n",
    "print(\"Hello!\")"
   ]
  },
  {
   "cell_type": "code",
   "execution_count": 14,
   "metadata": {},
   "outputs": [
    {
     "name": "stdout",
     "output_type": "stream",
     "text": [
      "91125\n",
      "Time required for execution : 290600.00 nano seconds\n"
     ]
    }
   ],
   "source": [
    "# Measuring time in nanoseconds\n",
    "start = time.perf_counter_ns()\n",
    "print(45**3)\n",
    "stop = time.perf_counter_ns()\n",
    "dur = stop - start\n",
    "print(f\"Time required for execution : {dur:.2f} nano seconds\")"
   ]
  },
  {
   "cell_type": "code",
   "execution_count": 15,
   "metadata": {},
   "outputs": [
    {
     "name": "stdout",
     "output_type": "stream",
     "text": [
      "welcome\n",
      "Advanced python\n",
      "Time required : 7.00 sec\n"
     ]
    }
   ],
   "source": [
    "# Measuring time in seconds\n",
    "start = time.perf_counter()\n",
    "time.sleep(5)\n",
    "print(\"welcome\")\n",
    "time.sleep(2)\n",
    "print(\"Advanced python\")\n",
    "stop = time.perf_counter()\n",
    "dur = stop - start\n",
    "print(f\"Time required : {dur:.2f} sec\")"
   ]
  },
  {
   "cell_type": "code",
   "execution_count": 16,
   "metadata": {},
   "outputs": [],
   "source": [
    "def time_decorator(func):\n",
    "    def wrapper(*args, **kwargs):\n",
    "       start = time.perf_counter()\n",
    "       res = func(*args, **kwargs)\n",
    "       print(f\"Results : {res}\")\n",
    "       stop = time.perf_counter()\n",
    "       dur = stop - start\n",
    "       print(f\"Duration for the code : {dur:.2f} sec\")\n",
    "       return res\n",
    "    return wrapper "
   ]
  },
  {
   "cell_type": "code",
   "execution_count": 17,
   "metadata": {},
   "outputs": [],
   "source": [
    "@time_decorator\n",
    "def even_odd(num):\n",
    "    time.sleep(3)\n",
    "    if num%2 == 0:\n",
    "        return \"Even\"\n",
    "    else:\n",
    "        return \"Odd\""
   ]
  },
  {
   "cell_type": "code",
   "execution_count": 18,
   "metadata": {},
   "outputs": [
    {
     "name": "stdout",
     "output_type": "stream",
     "text": [
      "Results : Odd\n",
      "Duration for the code : 3.00 sec\n"
     ]
    },
    {
     "data": {
      "text/plain": [
       "'Odd'"
      ]
     },
     "execution_count": 18,
     "metadata": {},
     "output_type": "execute_result"
    }
   ],
   "source": [
    "even_odd(43)"
   ]
  },
  {
   "cell_type": "code",
   "execution_count": 19,
   "metadata": {},
   "outputs": [],
   "source": [
    "@time_decorator\n",
    "def square_list(nums: list[int | float]) -> list[int | float]:\n",
    "    s = []\n",
    "    for i in nums:\n",
    "        time.sleep(1)\n",
    "        r = i**2\n",
    "        print(f\"Square of number {i} is {r}\")\n",
    "        s.append(r)\n",
    "\n",
    "    return s"
   ]
  },
  {
   "cell_type": "code",
   "execution_count": 20,
   "metadata": {},
   "outputs": [
    {
     "data": {
      "text/plain": [
       "list"
      ]
     },
     "execution_count": 20,
     "metadata": {},
     "output_type": "execute_result"
    }
   ],
   "source": [
    "b = [4,5,6,7,8,9]\n",
    "type(b)"
   ]
  },
  {
   "cell_type": "code",
   "execution_count": 21,
   "metadata": {},
   "outputs": [
    {
     "data": {
      "text/plain": [
       "6"
      ]
     },
     "execution_count": 21,
     "metadata": {},
     "output_type": "execute_result"
    }
   ],
   "source": [
    "len(b)"
   ]
  },
  {
   "cell_type": "code",
   "execution_count": 22,
   "metadata": {},
   "outputs": [
    {
     "name": "stdout",
     "output_type": "stream",
     "text": [
      "Square of number 4 is 16\n",
      "Square of number 5 is 25\n",
      "Square of number 6 is 36\n",
      "Square of number 7 is 49\n",
      "Square of number 8 is 64\n",
      "Square of number 9 is 81\n",
      "Results : [16, 25, 36, 49, 64, 81]\n",
      "Duration for the code : 6.01 sec\n"
     ]
    }
   ],
   "source": [
    "s1 = square_list(b)"
   ]
  },
  {
   "cell_type": "code",
   "execution_count": 23,
   "metadata": {},
   "outputs": [
    {
     "data": {
      "text/plain": [
       "[16, 25, 36, 49, 64, 81]"
      ]
     },
     "execution_count": 23,
     "metadata": {},
     "output_type": "execute_result"
    }
   ],
   "source": [
    "s1"
   ]
  },
  {
   "cell_type": "code",
   "execution_count": 24,
   "metadata": {},
   "outputs": [
    {
     "data": {
      "text/plain": [
       "list"
      ]
     },
     "execution_count": 24,
     "metadata": {},
     "output_type": "execute_result"
    }
   ],
   "source": [
    "a = [2,3,4,5,6,7,8,9]\n",
    "type(a)"
   ]
  },
  {
   "cell_type": "code",
   "execution_count": 25,
   "metadata": {},
   "outputs": [
    {
     "data": {
      "text/plain": [
       "8"
      ]
     },
     "execution_count": 25,
     "metadata": {},
     "output_type": "execute_result"
    }
   ],
   "source": [
    "len(a)"
   ]
  },
  {
   "cell_type": "code",
   "execution_count": 26,
   "metadata": {},
   "outputs": [
    {
     "name": "stdout",
     "output_type": "stream",
     "text": [
      "Square of number 2 is 4\n",
      "Square of number 3 is 9\n",
      "Square of number 4 is 16\n",
      "Square of number 5 is 25\n",
      "Square of number 6 is 36\n",
      "Square of number 7 is 49\n",
      "Square of number 8 is 64\n",
      "Square of number 9 is 81\n",
      "Results : [4, 9, 16, 25, 36, 49, 64, 81]\n",
      "Duration for the code : 8.01 sec\n"
     ]
    }
   ],
   "source": [
    "s2 = square_list(a)"
   ]
  },
  {
   "cell_type": "code",
   "execution_count": 27,
   "metadata": {},
   "outputs": [],
   "source": [
    "sqr = lambda n : n**2"
   ]
  },
  {
   "cell_type": "code",
   "execution_count": 28,
   "metadata": {},
   "outputs": [
    {
     "data": {
      "text/plain": [
       "144"
      ]
     },
     "execution_count": 28,
     "metadata": {},
     "output_type": "execute_result"
    }
   ],
   "source": [
    "sqr(12)"
   ]
  },
  {
   "cell_type": "code",
   "execution_count": 29,
   "metadata": {},
   "outputs": [
    {
     "data": {
      "text/plain": [
       "139.24"
      ]
     },
     "execution_count": 29,
     "metadata": {},
     "output_type": "execute_result"
    }
   ],
   "source": [
    "sqr(11.8)"
   ]
  },
  {
   "cell_type": "code",
   "execution_count": 30,
   "metadata": {},
   "outputs": [],
   "source": [
    "si = lambda p,n,r: (p*n*r)/100"
   ]
  },
  {
   "cell_type": "code",
   "execution_count": 31,
   "metadata": {},
   "outputs": [
    {
     "name": "stdout",
     "output_type": "stream",
     "text": [
      "1065.0\n"
     ]
    }
   ],
   "source": [
    "i1 = si(p=3000,n=5,r=7.1)\n",
    "print(i1)"
   ]
  },
  {
   "cell_type": "code",
   "execution_count": 33,
   "metadata": {},
   "outputs": [
    {
     "name": "stdout",
     "output_type": "stream",
     "text": [
      "13312.0\n"
     ]
    }
   ],
   "source": [
    "i2 = si(52000,4,6.4)\n",
    "print(i2)"
   ]
  },
  {
   "cell_type": "code",
   "execution_count": 34,
   "metadata": {},
   "outputs": [],
   "source": [
    "eo = lambda n: \"Even\" if n%2 == 0 else \"Odd\""
   ]
  },
  {
   "cell_type": "code",
   "execution_count": 35,
   "metadata": {},
   "outputs": [
    {
     "data": {
      "text/plain": [
       "'Even'"
      ]
     },
     "execution_count": 35,
     "metadata": {},
     "output_type": "execute_result"
    }
   ],
   "source": [
    "eo(20)"
   ]
  },
  {
   "cell_type": "code",
   "execution_count": 36,
   "metadata": {},
   "outputs": [
    {
     "data": {
      "text/plain": [
       "'Odd'"
      ]
     },
     "execution_count": 36,
     "metadata": {},
     "output_type": "execute_result"
    }
   ],
   "source": [
    "eo(45)"
   ]
  },
  {
   "cell_type": "code",
   "execution_count": 38,
   "metadata": {},
   "outputs": [],
   "source": [
    "cube = lambda nums: [i**3 for i in nums]"
   ]
  },
  {
   "cell_type": "code",
   "execution_count": 39,
   "metadata": {},
   "outputs": [
    {
     "data": {
      "text/plain": [
       "list"
      ]
     },
     "execution_count": 39,
     "metadata": {},
     "output_type": "execute_result"
    }
   ],
   "source": [
    "c = [3,2,4,6,5,8]\n",
    "type(c)"
   ]
  },
  {
   "cell_type": "code",
   "execution_count": 40,
   "metadata": {},
   "outputs": [
    {
     "data": {
      "text/plain": [
       "[27, 8, 64, 216, 125, 512]"
      ]
     },
     "execution_count": 40,
     "metadata": {},
     "output_type": "execute_result"
    }
   ],
   "source": [
    "cube(c)"
   ]
  },
  {
   "cell_type": "code",
   "execution_count": 1,
   "metadata": {},
   "outputs": [],
   "source": [
    "def my_decorator(func):\n",
    "    def wrapper_function(*args, **kwargs):\n",
    "        print(\"*\"*10)\n",
    "        func(*args, **kwargs)\n",
    "        print(\"*\"*10)\n",
    "        return wrapper_function"
   ]
  },
  {
   "cell_type": "code",
   "execution_count": 2,
   "metadata": {},
   "outputs": [],
   "source": [
    "def say_hello():\n",
    "    print(\"Hello Geeks!\")"
   ]
  },
  {
   "cell_type": "code",
   "execution_count": 3,
   "metadata": {},
   "outputs": [],
   "source": [
    "@my_decorator\n",
    "def say_bye():\n",
    "    print(\"Bye Geeks!\")"
   ]
  },
  {
   "cell_type": "code",
   "execution_count": 9,
   "metadata": {},
   "outputs": [
    {
     "name": "stdout",
     "output_type": "stream",
     "text": [
      "**********\n",
      "Hello Geeks!\n",
      "**********\n",
      "**********\n",
      "Bye Geeks!\n",
      "**********\n"
     ]
    }
   ],
   "source": [
    "def my_decorator(func): \n",
    "    def wrapper_function(*args, **kwargs): \n",
    "        print(\"*\"*10) \n",
    "        func(*args,  **kwargs) \n",
    "        print(\"*\"*10) \n",
    "    return wrapper_function \n",
    "  \n",
    "  \n",
    "def say_hello(): \n",
    "    print(\"Hello Geeks!\") \n",
    "  \n",
    "@my_decorator\n",
    "def say_bye(): \n",
    "    print(\"Bye Geeks!\") \n",
    "  \n",
    "  \n",
    "say_hello = my_decorator(say_hello) \n",
    "say_hello() \n",
    "say_bye() "
   ]
  },
  {
   "cell_type": "code",
   "execution_count": 10,
   "metadata": {},
   "outputs": [],
   "source": [
    "import time"
   ]
  },
  {
   "cell_type": "code",
   "execution_count": 11,
   "metadata": {},
   "outputs": [
    {
     "name": "stdout",
     "output_type": "stream",
     "text": [
      "Function calculate_multiply took 0.0000 seconds to execute\n",
      "Result: 120\n"
     ]
    }
   ],
   "source": [
    "def measure_execution_time(func):\n",
    "    def wrapper(*args,  **kwargs):\n",
    "        start_time = time.time()\n",
    "        result = func(*args, **kwargs)\n",
    "        end_time = time.time()\n",
    "        execution_time = end_time - start_time\n",
    "        print(f\"Function {func.__name__} took {execution_time:.4f} seconds to execute\")\n",
    "        return result\n",
    "    return wrapper\n",
    "@measure_execution_time\n",
    "def calculate_multiply(numbers):\n",
    "    tot = 1\n",
    "    for x in numbers:\n",
    "        tot *= x\n",
    "    return tot\n",
    "#call the decorated function\n",
    "result = calculate_multiply([1,2,3,4,5])\n",
    "print(\"Result:\", result)"
   ]
  },
  {
   "cell_type": "code",
   "execution_count": null,
   "metadata": {},
   "outputs": [],
   "source": []
  }
 ],
 "metadata": {
  "kernelspec": {
   "display_name": "venv",
   "language": "python",
   "name": "python3"
  },
  "language_info": {
   "codemirror_mode": {
    "name": "ipython",
    "version": 3
   },
   "file_extension": ".py",
   "mimetype": "text/x-python",
   "name": "python",
   "nbconvert_exporter": "python",
   "pygments_lexer": "ipython3",
   "version": "3.13.2"
  }
 },
 "nbformat": 4,
 "nbformat_minor": 2
}
