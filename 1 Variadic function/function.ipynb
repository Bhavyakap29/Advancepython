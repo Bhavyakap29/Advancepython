{
 "cells": [
  {
   "cell_type": "markdown",
   "metadata": {},
   "source": [
    "### variadic function in python\n"
   ]
  },
  {
   "cell_type": "code",
   "execution_count": 1,
   "metadata": {},
   "outputs": [],
   "source": [
    "def add(a: int|float, b: int|float) -> int|float:\n",
    "    c = a+b\n",
    "    return c"
   ]
  },
  {
   "cell_type": "code",
   "execution_count": 2,
   "metadata": {},
   "outputs": [
    {
     "data": {
      "text/plain": [
       "7"
      ]
     },
     "execution_count": 2,
     "metadata": {},
     "output_type": "execute_result"
    }
   ],
   "source": [
    "# Arguments input\n",
    "add(3,4)"
   ]
  },
  {
   "cell_type": "code",
   "execution_count": 3,
   "metadata": {},
   "outputs": [
    {
     "data": {
      "text/plain": [
       "6.5"
      ]
     },
     "execution_count": 3,
     "metadata": {},
     "output_type": "execute_result"
    }
   ],
   "source": [
    "add(4.5,2)"
   ]
  },
  {
   "cell_type": "code",
   "execution_count": 4,
   "metadata": {},
   "outputs": [
    {
     "data": {
      "text/plain": [
       "23.8"
      ]
     },
     "execution_count": 4,
     "metadata": {},
     "output_type": "execute_result"
    }
   ],
   "source": [
    "add(a=11.5,b=12.3)"
   ]
  },
  {
   "cell_type": "code",
   "execution_count": 5,
   "metadata": {},
   "outputs": [],
   "source": [
    "def function1(*args):\n",
    "    print(args)\n",
    "    print(type(args))\n",
    "    for i in args:\n",
    "        print(i)\n",
    "    "
   ]
  },
  {
   "cell_type": "code",
   "execution_count": 6,
   "metadata": {},
   "outputs": [
    {
     "name": "stdout",
     "output_type": "stream",
     "text": [
      "(3, 4)\n",
      "<class 'tuple'>\n",
      "3\n",
      "4\n"
     ]
    }
   ],
   "source": [
    "function1(3,4)"
   ]
  },
  {
   "cell_type": "code",
   "execution_count": 7,
   "metadata": {},
   "outputs": [
    {
     "name": "stdout",
     "output_type": "stream",
     "text": [
      "('Bhavya', 29, 'Data analyst', 'o+')\n",
      "<class 'tuple'>\n",
      "Bhavya\n",
      "29\n",
      "Data analyst\n",
      "o+\n"
     ]
    }
   ],
   "source": [
    "function1(\"Bhavya\",29,\"Data analyst\",\"o+\")"
   ]
  },
  {
   "cell_type": "code",
   "execution_count": 8,
   "metadata": {},
   "outputs": [
    {
     "data": {
      "text/plain": [
       "list"
      ]
     },
     "execution_count": 8,
     "metadata": {},
     "output_type": "execute_result"
    }
   ],
   "source": [
    "a = [\"Example\",True,False,12.5,11.2,13]\n",
    "type(a)"
   ]
  },
  {
   "cell_type": "code",
   "execution_count": 9,
   "metadata": {},
   "outputs": [
    {
     "name": "stdout",
     "output_type": "stream",
     "text": [
      "('Example', True, False, 12.5, 11.2, 13)\n",
      "<class 'tuple'>\n",
      "Example\n",
      "True\n",
      "False\n",
      "12.5\n",
      "11.2\n",
      "13\n"
     ]
    }
   ],
   "source": [
    "function1(*a)"
   ]
  },
  {
   "cell_type": "code",
   "execution_count": 10,
   "metadata": {},
   "outputs": [],
   "source": [
    "c1 = [\n",
    "    (\"Laptop\",65000,1),\n",
    "    (\"Mouse\",1500,2),\n",
    "    (\"Keyboard\",2000,1)\n",
    "]"
   ]
  },
  {
   "cell_type": "code",
   "execution_count": 18,
   "metadata": {},
   "outputs": [],
   "source": [
    "def billing(*args):\n",
    "    total_bill = 0\n",
    "    for name, price, qty in args:\n",
    "        subtotal = price*qty\n",
    "        total_bill = total_bill + subtotal\n",
    "        print(f\"Name : {name}, Price : {price} INR, Quantity : {qty}\")\n",
    "        print(f\"subtotal : {subtotal} INR\")\n",
    "        print(\"\\n=================================================\\n\")\n",
    "\n",
    "        ## Print and return total bill\n",
    "        print(f\"Total bill : {total_bill:.2f} INR\")\n",
    "        return total_bill"
   ]
  },
  {
   "cell_type": "code",
   "execution_count": 12,
   "metadata": {},
   "outputs": [
    {
     "data": {
      "text/plain": [
       "[('Laptop', 65000, 1), ('Mouse', 1500, 2), ('Keyboard', 2000, 1)]"
      ]
     },
     "execution_count": 12,
     "metadata": {},
     "output_type": "execute_result"
    }
   ],
   "source": [
    "c1"
   ]
  },
  {
   "cell_type": "code",
   "execution_count": 13,
   "metadata": {},
   "outputs": [
    {
     "name": "stdout",
     "output_type": "stream",
     "text": [
      "Name : Laptop, Price : 65000 INR, Quantity : 1\n",
      "subtotal : 65000 INR\n",
      "\n",
      "=================================================\n",
      "\n",
      "Total bill : 65000.00 INR\n"
     ]
    }
   ],
   "source": [
    "t1 = billing(*c1)"
   ]
  },
  {
   "cell_type": "code",
   "execution_count": 14,
   "metadata": {},
   "outputs": [
    {
     "data": {
      "text/plain": [
       "65000"
      ]
     },
     "execution_count": 14,
     "metadata": {},
     "output_type": "execute_result"
    }
   ],
   "source": [
    "t1"
   ]
  },
  {
   "cell_type": "code",
   "execution_count": 17,
   "metadata": {},
   "outputs": [
    {
     "name": "stdout",
     "output_type": "stream",
     "text": [
      "Name : Mobile, Price : 3000 INR, Quantity : 2\n",
      "subtotal : 6000 INR\n",
      "\n",
      "=================================================\n",
      "\n",
      "Total bill : 6000.00 INR\n"
     ]
    }
   ],
   "source": [
    "t2 = billing(\n",
    "    (\"Mobile\",3000,2),\n",
    "    (\"Screen Guard\",200, 2),\n",
    "    (\"Headphones\",2000, 1),\n",
    "    (\"Phone Cover\",400, 2)\n",
    ")"
   ]
  },
  {
   "cell_type": "code",
   "execution_count": 19,
   "metadata": {},
   "outputs": [],
   "source": [
    "def function2(**kwargs):\n",
    "    print(kwargs)\n",
    "    print(type(kwargs))\n",
    "    for key, value in kwargs.items():\n",
    "        print(f\"key : {key},value : {value}\")"
   ]
  },
  {
   "cell_type": "code",
   "execution_count": 20,
   "metadata": {},
   "outputs": [
    {
     "name": "stdout",
     "output_type": "stream",
     "text": [
      "{'a': 1, 'b': 23, 'name': 'Bhavya', 'married': False}\n",
      "<class 'dict'>\n",
      "key : a,value : 1\n",
      "key : b,value : 23\n",
      "key : name,value : Bhavya\n",
      "key : married,value : False\n"
     ]
    }
   ],
   "source": [
    "function2(a=1, b=23,name=\"Bhavya\",married=False)"
   ]
  },
  {
   "cell_type": "code",
   "execution_count": 21,
   "metadata": {},
   "outputs": [],
   "source": [
    "def create_user(**kwargs):\n",
    "    user = {\n",
    "        \"username\": None,\n",
    "        \"age\": None,\n",
    "        \"email\": None\n",
    "    }\n",
    "    user.update(kwargs)\n",
    "    return user"
   ]
  },
  {
   "cell_type": "code",
   "execution_count": 22,
   "metadata": {},
   "outputs": [],
   "source": [
    "u1 = create_user(\n",
    "    username = \"Nishil25\",\n",
    "    age = 32\n",
    ")"
   ]
  },
  {
   "cell_type": "code",
   "execution_count": 23,
   "metadata": {},
   "outputs": [
    {
     "data": {
      "text/plain": [
       "{'username': 'Nishil25', 'age': 32, 'email': None}"
      ]
     },
     "execution_count": 23,
     "metadata": {},
     "output_type": "execute_result"
    }
   ],
   "source": [
    "u1"
   ]
  },
  {
   "cell_type": "code",
   "execution_count": 24,
   "metadata": {},
   "outputs": [],
   "source": [
    "u2 = create_user(\n",
    "    username = \"priyu27\",\n",
    "    age = 6,\n",
    "    email = \"priyu27@gmail.com\"\n",
    ")"
   ]
  },
  {
   "cell_type": "code",
   "execution_count": 25,
   "metadata": {},
   "outputs": [
    {
     "data": {
      "text/plain": [
       "{'username': 'priyu27', 'age': 6, 'email': 'priyu27@gmail.com'}"
      ]
     },
     "execution_count": 25,
     "metadata": {},
     "output_type": "execute_result"
    }
   ],
   "source": [
    "u2"
   ]
  },
  {
   "cell_type": "code",
   "execution_count": 26,
   "metadata": {},
   "outputs": [],
   "source": [
    "u3 = create_user(\n",
    "    username = \"Nisbh\",\n",
    "    age = 30,\n",
    "    email = \"Nish@gmail.com\",\n",
    "    blood_group = \"o+\",\n",
    "    contact = 843567890\n",
    ")"
   ]
  },
  {
   "cell_type": "code",
   "execution_count": 27,
   "metadata": {},
   "outputs": [
    {
     "data": {
      "text/plain": [
       "{'username': 'Nisbh',\n",
       " 'age': 30,\n",
       " 'email': 'Nish@gmail.com',\n",
       " 'blood_group': 'o+',\n",
       " 'contact': 843567890}"
      ]
     },
     "execution_count": 27,
     "metadata": {},
     "output_type": "execute_result"
    }
   ],
   "source": [
    "u3"
   ]
  },
  {
   "cell_type": "code",
   "execution_count": null,
   "metadata": {},
   "outputs": [],
   "source": []
  }
 ],
 "metadata": {
  "kernelspec": {
   "display_name": "venv",
   "language": "python",
   "name": "python3"
  },
  "language_info": {
   "codemirror_mode": {
    "name": "ipython",
    "version": 3
   },
   "file_extension": ".py",
   "mimetype": "text/x-python",
   "name": "python",
   "nbconvert_exporter": "python",
   "pygments_lexer": "ipython3",
   "version": "3.13.2"
  }
 },
 "nbformat": 4,
 "nbformat_minor": 2
}
