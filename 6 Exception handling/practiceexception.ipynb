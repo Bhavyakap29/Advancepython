{
 "cells": [
  {
   "cell_type": "code",
   "execution_count": 1,
   "metadata": {},
   "outputs": [
    {
     "name": "stdout",
     "output_type": "stream",
     "text": [
      "Can't divided by zero!\n"
     ]
    }
   ],
   "source": [
    "n = 10\n",
    "try:\n",
    "    res = n / 0\n",
    "except ZeroDivisionError:\n",
    "    print(\"Can't divided by zero!\")"
   ]
  },
  {
   "cell_type": "code",
   "execution_count": 2,
   "metadata": {},
   "outputs": [
    {
     "name": "stdout",
     "output_type": "stream",
     "text": [
      "Can't divided by zero!\n",
      "Execution complete\n"
     ]
    }
   ],
   "source": [
    "try:\n",
    "    n = 0\n",
    "    res = 100 / n\n",
    "except ZeroDivisionError:\n",
    "    print(\"Can't divided by zero!\")\n",
    "except ValueError:\n",
    "    print(\"Enter a valid number!\")\n",
    "else:\n",
    "    print(\"Result is\",res)\n",
    "finally:\n",
    "    print(\"Execution complete\")"
   ]
  },
  {
   "cell_type": "code",
   "execution_count": 3,
   "metadata": {},
   "outputs": [
    {
     "name": "stdout",
     "output_type": "stream",
     "text": [
      "Error invalid literal for int() with base 10: 'twenty'\n"
     ]
    }
   ],
   "source": [
    "a = [\"10\",\"twenty\",30]\n",
    "try:\n",
    "    total = int(a[0]) + int(a[1])\n",
    "except(ValueError, TypeError) as e:\n",
    "    print(\"Error\",e)\n",
    "except IndexError:\n",
    "    print(\"Index out of range.\")"
   ]
  },
  {
   "cell_type": "code",
   "execution_count": null,
   "metadata": {},
   "outputs": [],
   "source": []
  }
 ],
 "metadata": {
  "kernelspec": {
   "display_name": "venv",
   "language": "python",
   "name": "python3"
  },
  "language_info": {
   "codemirror_mode": {
    "name": "ipython",
    "version": 3
   },
   "file_extension": ".py",
   "mimetype": "text/x-python",
   "name": "python",
   "nbconvert_exporter": "python",
   "pygments_lexer": "ipython3",
   "version": "3.13.2"
  }
 },
 "nbformat": 4,
 "nbformat_minor": 2
}
