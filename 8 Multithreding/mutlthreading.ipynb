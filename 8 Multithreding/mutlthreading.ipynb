{
 "cells": [
  {
   "cell_type": "code",
   "execution_count": 1,
   "metadata": {},
   "outputs": [],
   "source": [
    "import time"
   ]
  },
  {
   "cell_type": "code",
   "execution_count": 2,
   "metadata": {},
   "outputs": [
    {
     "name": "stdout",
     "output_type": "stream",
     "text": [
      "Hello\n",
      "Bhavya\n",
      "CPU times: total: 0 ns\n",
      "Wall time: 5 s\n"
     ]
    }
   ],
   "source": [
    "%%time\n",
    "time.sleep(3)\n",
    "print(\"Hello\")\n",
    "time.sleep(2)\n",
    "print(\"Bhavya\")"
   ]
  },
  {
   "cell_type": "code",
   "execution_count": 3,
   "metadata": {},
   "outputs": [],
   "source": [
    "def simple_intrest(p,n,r):\n",
    "    print(\"simple Intrest function started\")\n",
    "    time.sleep(3)\n",
    "    i = (p*n*r)/100\n",
    "    a = p+i\n",
    "    print(f\"simple Intrest: {i:.2f} INR\")\n",
    "    print(f\"Amount : {a:.2f} INR\")\n",
    "    print(\"simple Intrest Execution complete\")"
   ]
  },
  {
   "cell_type": "code",
   "execution_count": 4,
   "metadata": {},
   "outputs": [
    {
     "name": "stdout",
     "output_type": "stream",
     "text": [
      "simple Intrest function started\n",
      "simple Intrest: 15975.00 INR\n",
      "Amount : 60975.00 INR\n",
      "simple Intrest Execution complete\n",
      "CPU times: total: 0 ns\n",
      "Wall time: 3 s\n"
     ]
    }
   ],
   "source": [
    "%%time\n",
    "simple_intrest(45000,5,7.1)"
   ]
  },
  {
   "cell_type": "code",
   "execution_count": 5,
   "metadata": {},
   "outputs": [],
   "source": [
    "def hypotenuse(a,b):\n",
    "    print(\"Hypotenuse execution started\")\n",
    "    time.sleep(2)\n",
    "    c = (a**2 + b**2)**(1/2)\n",
    "    print(f\"Hypotenuse of {a} and {b} is {c:.4f}\")\n",
    "    print(\"Hypotenuse execution completed\")"
   ]
  },
  {
   "cell_type": "code",
   "execution_count": 6,
   "metadata": {},
   "outputs": [
    {
     "name": "stdout",
     "output_type": "stream",
     "text": [
      "Hypotenuse execution started\n",
      "Hypotenuse of 5 and 6 is 7.8102\n",
      "Hypotenuse execution completed\n",
      "CPU times: total: 0 ns\n",
      "Wall time: 2 s\n"
     ]
    }
   ],
   "source": [
    "%%time\n",
    "hypotenuse(5,6)"
   ]
  },
  {
   "cell_type": "code",
   "execution_count": 7,
   "metadata": {},
   "outputs": [
    {
     "name": "stdout",
     "output_type": "stream",
     "text": [
      "Hypotenuse execution started\n",
      "Hypotenuse of 4 and 5 is 6.4031\n",
      "Hypotenuse execution completed\n",
      "simple Intrest function started\n",
      "simple Intrest: 15275.00 INR\n",
      "Amount : 62275.00 INR\n",
      "simple Intrest Execution complete\n",
      "CPU times: total: 0 ns\n",
      "Wall time: 5 s\n"
     ]
    }
   ],
   "source": [
    "%%time\n",
    "hypotenuse(4,5)\n",
    "simple_intrest(47000,5,6.5)"
   ]
  },
  {
   "cell_type": "code",
   "execution_count": 8,
   "metadata": {},
   "outputs": [],
   "source": [
    "from threading import Thread"
   ]
  },
  {
   "cell_type": "code",
   "execution_count": 9,
   "metadata": {},
   "outputs": [
    {
     "name": "stdout",
     "output_type": "stream",
     "text": [
      "simple Intrest function started\n",
      "Hypotenuse execution started\n",
      "Hypotenuse of 3 and 4 is 5.0000\n",
      "Hypotenuse execution completed\n",
      "simple Intrest: 25650.00 INR\n",
      "Amount : 82650.00 INR\n",
      "simple Intrest Execution complete\n",
      "CPU times: total: 0 ns\n",
      "Wall time: 3 s\n"
     ]
    }
   ],
   "source": [
    "%%time\n",
    "th1 = Thread(target=simple_intrest,args=(57000,6,7.5))\n",
    "th2 = Thread(target=hypotenuse,args=(3,4))\n",
    "\n",
    "th1.start()\n",
    "th2.start()\n",
    "\n",
    "th1.join()\n",
    "th2.join()"
   ]
  },
  {
   "cell_type": "code",
   "execution_count": 10,
   "metadata": {},
   "outputs": [],
   "source": [
    "def square(n):\n",
    "    time.sleep(1)\n",
    "    s = n**2\n",
    "    print(f\"Square of number {n} is {s}\\n\\n\")"
   ]
  },
  {
   "cell_type": "code",
   "execution_count": 11,
   "metadata": {},
   "outputs": [
    {
     "name": "stdout",
     "output_type": "stream",
     "text": [
      "Square of number 48 is 2304\n",
      "\n",
      "\n",
      "CPU times: total: 0 ns\n",
      "Wall time: 1 s\n"
     ]
    }
   ],
   "source": [
    "%%time\n",
    "square(48)"
   ]
  },
  {
   "cell_type": "code",
   "execution_count": 12,
   "metadata": {},
   "outputs": [
    {
     "data": {
      "text/plain": [
       "[3, 4, 5, 6, 7, 8, 9, 11, 12]"
      ]
     },
     "execution_count": 12,
     "metadata": {},
     "output_type": "execute_result"
    }
   ],
   "source": [
    "nums = [3, 4, 5, 6, 7, 8, 9, 11, 12]\n",
    "nums"
   ]
  },
  {
   "cell_type": "code",
   "execution_count": 13,
   "metadata": {},
   "outputs": [
    {
     "data": {
      "text/plain": [
       "9"
      ]
     },
     "execution_count": 13,
     "metadata": {},
     "output_type": "execute_result"
    }
   ],
   "source": [
    "len(nums)"
   ]
  },
  {
   "cell_type": "code",
   "execution_count": 14,
   "metadata": {},
   "outputs": [
    {
     "name": "stdout",
     "output_type": "stream",
     "text": [
      "Square of number 3 is 9\n",
      "\n",
      "\n",
      "Square of number 4 is 16\n",
      "\n",
      "\n",
      "Square of number 5 is 25\n",
      "\n",
      "\n",
      "Square of number 6 is 36\n",
      "\n",
      "\n",
      "Square of number 7 is 49\n",
      "\n",
      "\n",
      "Square of number 8 is 64\n",
      "\n",
      "\n",
      "Square of number 9 is 81\n",
      "\n",
      "\n",
      "Square of number 11 is 121\n",
      "\n",
      "\n",
      "Square of number 12 is 144\n",
      "\n",
      "\n",
      "CPU times: total: 0 ns\n",
      "Wall time: 9.01 s\n"
     ]
    }
   ],
   "source": [
    "%%time\n",
    "for i in nums:\n",
    "    square(i)"
   ]
  },
  {
   "cell_type": "code",
   "execution_count": 15,
   "metadata": {},
   "outputs": [],
   "source": [
    "def multithreading_squares(nums: list):\n",
    "    threads = []\n",
    "    for i in nums:\n",
    "        th = Thread(target=square,args=(i,))\n",
    "        th.start()\n",
    "        threads.append(th)\n",
    "\n",
    "    for th in threads:\n",
    "        th.join()"
   ]
  },
  {
   "cell_type": "code",
   "execution_count": 16,
   "metadata": {},
   "outputs": [
    {
     "data": {
      "text/plain": [
       "[3, 4, 5, 6, 7, 8, 9, 11, 12]"
      ]
     },
     "execution_count": 16,
     "metadata": {},
     "output_type": "execute_result"
    }
   ],
   "source": [
    "nums"
   ]
  },
  {
   "cell_type": "code",
   "execution_count": 17,
   "metadata": {},
   "outputs": [
    {
     "name": "stdout",
     "output_type": "stream",
     "text": [
      "Square of number 3 is 9\n",
      "\n",
      "Square of number 6 is 36\n",
      "\n",
      "\n",
      "Square of number 4 is 16\n",
      "\n",
      "\n",
      "Square of number 8 is 64\n",
      "\n",
      "\n",
      "Square of number 5 is 25\n",
      "\n",
      "\n",
      "\n",
      "Square of number 7 is 49\n",
      "\n",
      "\n",
      "Square of number 9 is 81\n",
      "\n",
      "\n",
      "Square of number 12 is 144\n",
      "\n",
      "\n",
      "Square of number 11 is 121\n",
      "\n",
      "\n",
      "CPU times: total: 0 ns\n",
      "Wall time: 1.02 s\n"
     ]
    }
   ],
   "source": [
    "%%time\n",
    "multithreading_squares(nums)"
   ]
  },
  {
   "cell_type": "code",
   "execution_count": 18,
   "metadata": {},
   "outputs": [],
   "source": [
    "import numpy as np"
   ]
  },
  {
   "cell_type": "code",
   "execution_count": 19,
   "metadata": {},
   "outputs": [
    {
     "data": {
      "text/plain": [
       "array([  1,   2,   3,   4,   5,   6,   7,   8,   9,  10,  11,  12,  13,\n",
       "        14,  15,  16,  17,  18,  19,  20,  21,  22,  23,  24,  25,  26,\n",
       "        27,  28,  29,  30,  31,  32,  33,  34,  35,  36,  37,  38,  39,\n",
       "        40,  41,  42,  43,  44,  45,  46,  47,  48,  49,  50,  51,  52,\n",
       "        53,  54,  55,  56,  57,  58,  59,  60,  61,  62,  63,  64,  65,\n",
       "        66,  67,  68,  69,  70,  71,  72,  73,  74,  75,  76,  77,  78,\n",
       "        79,  80,  81,  82,  83,  84,  85,  86,  87,  88,  89,  90,  91,\n",
       "        92,  93,  94,  95,  96,  97,  98,  99, 100])"
      ]
     },
     "execution_count": 19,
     "metadata": {},
     "output_type": "execute_result"
    }
   ],
   "source": [
    "a = np.arange(start=1,stop=101,step=1)\n",
    "a"
   ]
  },
  {
   "cell_type": "code",
   "execution_count": 20,
   "metadata": {},
   "outputs": [
    {
     "name": "stdout",
     "output_type": "stream",
     "text": [
      "Square of number 1 is 1\n",
      "\n",
      "Square of number 2 is 4\n",
      "\n",
      "\n",
      "Square of number 3 is 9\n",
      "\n",
      "\n",
      "Square of number 4 is 16\n",
      "\n",
      "\n",
      "Square of number 5 is 25\n",
      "\n",
      "\n",
      "Square of number 7 is 49\n",
      "\n",
      "\n",
      "Square of number 6 is 36\n",
      "\n",
      "\n",
      "Square of number 8 is 64\n",
      "\n",
      "\n",
      "Square of number 14 is 196\n",
      "\n",
      "\n",
      "\n",
      "Square of number 12 is 144\n",
      "\n",
      "\n",
      "Square of number 11 is 121\n",
      "\n",
      "\n",
      "Square of number 13 is 169\n",
      "\n",
      "\n",
      "Square of number 10 is 100\n",
      "\n",
      "\n",
      "Square of number 15 is 225\n",
      "\n",
      "\n",
      "Square of number 9 is 81\n",
      "\n",
      "\n",
      "Square of number 17 is 289\n",
      "\n",
      "\n",
      "Square of number 16 is 256\n",
      "\n",
      "\n",
      "Square of number 19 is 361\n",
      "\n",
      "\n",
      "Square of number 18 is 324\n",
      "\n",
      "\n",
      "Square of number 20 is 400\n",
      "\n",
      "\n",
      "Square of number 23 is 529\n",
      "\n",
      "\n",
      "Square of number 24 is 576\n",
      "\n",
      "\n",
      "Square of number 22 is 484\n",
      "\n",
      "\n",
      "Square of number 21 is 441\n",
      "\n",
      "\n",
      "Square of number 26 is 676\n",
      "\n",
      "\n",
      "Square of number 25 is 625\n",
      "\n",
      "\n",
      "Square of number 28 is 784\n",
      "\n",
      "\n",
      "Square of number 27 is 729\n",
      "\n",
      "\n",
      "Square of number 29 is 841\n",
      "\n",
      "\n",
      "Square of number 30 is 900\n",
      "\n",
      "\n",
      "Square of number 31 is 961\n",
      "\n",
      "\n",
      "Square of number 32 is 1024\n",
      "\n",
      "\n",
      "Square of number 34 is 1156\n",
      "\n",
      "\n",
      "Square of number 33 is 1089\n",
      "\n",
      "\n",
      "Square of number 35 is 1225\n",
      "\n",
      "\n",
      "Square of number 36 is 1296\n",
      "\n",
      "\n",
      "Square of number 37 is 1369\n",
      "\n",
      "\n",
      "Square of number 38 is 1444\n",
      "\n",
      "\n",
      "Square of number 40 is 1600\n",
      "\n",
      "\n",
      "Square of number 39 is 1521\n",
      "\n",
      "\n",
      "Square of number 41 is 1681\n",
      "\n",
      "\n",
      "Square of number 43 is 1849\n",
      "\n",
      "\n",
      "Square of number 42 is 1764\n",
      "\n",
      "\n",
      "Square of number 44 is 1936\n",
      "\n",
      "\n",
      "Square of number 45 is 2025\n",
      "\n",
      "\n",
      "Square of number 46 is 2116\n",
      "\n",
      "\n",
      "Square of number 47 is 2209\n",
      "\n",
      "\n",
      "Square of number 48 is 2304\n",
      "\n",
      "\n",
      "Square of number 49 is 2401\n",
      "\n",
      "\n",
      "Square of number 50 is 2500\n",
      "\n",
      "\n",
      "Square of number 51 is 2601\n",
      "\n",
      "\n",
      "Square of number 52 is 2704\n",
      "\n",
      "\n",
      "Square of number 54 is 2916\n",
      "\n",
      "\n",
      "Square of number 53 is 2809\n",
      "\n",
      "\n",
      "Square of number 55 is 3025\n",
      "\n",
      "\n",
      "Square of number 56 is 3136\n",
      "\n",
      "\n",
      "Square of number 57 is 3249\n",
      "\n",
      "\n",
      "Square of number 58 is 3364\n",
      "\n",
      "\n",
      "Square of number 59 is 3481\n",
      "\n",
      "\n",
      "Square of number 60 is 3600\n",
      "\n",
      "\n",
      "Square of number 61 is 3721\n",
      "\n",
      "\n",
      "Square of number 62 is 3844\n",
      "\n",
      "\n",
      "Square of number 63 is 3969\n",
      "\n",
      "\n",
      "Square of number 64 is 4096\n",
      "\n",
      "\n",
      "Square of number 66 is 4356\n",
      "\n",
      "\n",
      "Square of number 68 is 4624\n",
      "\n",
      "\n",
      "Square of number 67 is 4489\n",
      "\n",
      "\n",
      "Square of number 65 is 4225\n",
      "\n",
      "\n",
      "Square of number 69 is 4761\n",
      "\n",
      "\n",
      "Square of number 70 is 4900\n",
      "\n",
      "\n",
      "Square of number 71 is 5041\n",
      "\n",
      "\n",
      "Square of number 72 is 5184\n",
      "\n",
      "\n",
      "Square of number 73 is 5329\n",
      "\n",
      "\n",
      "Square of number 74 is 5476\n",
      "\n",
      "\n",
      "Square of number 75 is 5625\n",
      "\n",
      "\n",
      "Square of number 76 is 5776\n",
      "\n",
      "\n",
      "Square of number 77 is 5929\n",
      "\n",
      "\n",
      "Square of number 78 is 6084\n",
      "\n",
      "\n",
      "Square of number 79 is 6241\n",
      "\n",
      "\n",
      "Square of number 80 is 6400\n",
      "\n",
      "\n",
      "Square of number 82 is 6724\n",
      "\n",
      "\n",
      "Square of number 81 is 6561\n",
      "\n",
      "\n",
      "Square of number 83 is 6889\n",
      "\n",
      "\n",
      "Square of number 84 is 7056\n",
      "\n",
      "\n",
      "Square of number 85 is 7225\n",
      "\n",
      "\n",
      "Square of number 86 is 7396\n",
      "\n",
      "\n",
      "Square of number 87 is 7569\n",
      "\n",
      "\n",
      "Square of number 88 is 7744\n",
      "\n",
      "\n",
      "Square of number 89 is 7921\n",
      "\n",
      "\n",
      "Square of number 90 is 8100\n",
      "\n",
      "\n",
      "Square of number 92 is 8464\n",
      "\n",
      "\n",
      "Square of number 91 is 8281\n",
      "\n",
      "\n",
      "Square of number 93 is 8649\n",
      "\n",
      "\n",
      "Square of number 95 is 9025\n",
      "\n",
      "\n",
      "Square of number 94 is 8836\n",
      "\n",
      "\n",
      "Square of number 96 is 9216\n",
      "\n",
      "\n",
      "Square of number 97 is 9409\n",
      "\n",
      "\n",
      "Square of number 98 is 9604\n",
      "\n",
      "\n",
      "Square of number 99 is 9801\n",
      "\n",
      "\n",
      "Square of number 100 is 10000\n",
      "\n",
      "\n",
      "CPU times: total: 0 ns\n",
      "Wall time: 1.04 s\n"
     ]
    }
   ],
   "source": [
    "%%time\n",
    "multithreading_squares(a)"
   ]
  },
  {
   "cell_type": "code",
   "execution_count": 21,
   "metadata": {},
   "outputs": [],
   "source": [
    "urls = [\n",
    "    \"https://raw.githubusercontent.com/utkarshg1/mlproject_regression/main/artifacts/data.csv\",\n",
    "    \"https://raw.githubusercontent.com/utkarshg1/mlproject_regression/main/artifacts/test.csv\",\n",
    "    \"https://raw.githubusercontent.com/utkarshg1/mlproject_regression/main/artifacts/train.csv\"\n",
    "]"
   ]
  },
  {
   "cell_type": "code",
   "execution_count": 22,
   "metadata": {},
   "outputs": [
    {
     "data": {
      "text/plain": [
       "['https://raw.githubusercontent.com/utkarshg1/mlproject_regression/main/artifacts/data.csv',\n",
       " 'https://raw.githubusercontent.com/utkarshg1/mlproject_regression/main/artifacts/test.csv',\n",
       " 'https://raw.githubusercontent.com/utkarshg1/mlproject_regression/main/artifacts/train.csv']"
      ]
     },
     "execution_count": 22,
     "metadata": {},
     "output_type": "execute_result"
    }
   ],
   "source": [
    "urls"
   ]
  },
  {
   "cell_type": "code",
   "execution_count": 23,
   "metadata": {},
   "outputs": [
    {
     "data": {
      "text/plain": [
       "'https://raw.githubusercontent.com/utkarshg1/mlproject_regression/main/artifacts/data.csv'"
      ]
     },
     "execution_count": 23,
     "metadata": {},
     "output_type": "execute_result"
    }
   ],
   "source": [
    "urls[0]"
   ]
  },
  {
   "cell_type": "code",
   "execution_count": 24,
   "metadata": {},
   "outputs": [
    {
     "data": {
      "text/plain": [
       "['https:',\n",
       " '',\n",
       " 'raw.githubusercontent.com',\n",
       " 'utkarshg1',\n",
       " 'mlproject_regression',\n",
       " 'main',\n",
       " 'artifacts',\n",
       " 'data.csv']"
      ]
     },
     "execution_count": 24,
     "metadata": {},
     "output_type": "execute_result"
    }
   ],
   "source": [
    "urls[0].split(\"/\")"
   ]
  },
  {
   "cell_type": "code",
   "execution_count": 25,
   "metadata": {},
   "outputs": [
    {
     "data": {
      "text/plain": [
       "'data.csv'"
      ]
     },
     "execution_count": 25,
     "metadata": {},
     "output_type": "execute_result"
    }
   ],
   "source": [
    "urls[0].split(\"/\")[-1]"
   ]
  },
  {
   "cell_type": "code",
   "execution_count": 26,
   "metadata": {},
   "outputs": [],
   "source": [
    "from urllib.request import urlretrieve"
   ]
  },
  {
   "cell_type": "code",
   "execution_count": 27,
   "metadata": {},
   "outputs": [],
   "source": [
    "def download_single_file(url:str):\n",
    "    filename = url.split(\"/\")[-1]\n",
    "    print(f\"{filename} download started ....\")\n",
    "    urlretrieve(url,filename)\n",
    "    print(f\"{filename} download complete!\")"
   ]
  },
  {
   "cell_type": "code",
   "execution_count": 28,
   "metadata": {},
   "outputs": [],
   "source": [
    "def singlethread_downloads(urls: list):\n",
    "    for i in urls:\n",
    "        download_single_file(i)"
   ]
  },
  {
   "cell_type": "code",
   "execution_count": 29,
   "metadata": {},
   "outputs": [
    {
     "data": {
      "text/plain": [
       "['https://raw.githubusercontent.com/utkarshg1/mlproject_regression/main/artifacts/data.csv',\n",
       " 'https://raw.githubusercontent.com/utkarshg1/mlproject_regression/main/artifacts/test.csv',\n",
       " 'https://raw.githubusercontent.com/utkarshg1/mlproject_regression/main/artifacts/train.csv']"
      ]
     },
     "execution_count": 29,
     "metadata": {},
     "output_type": "execute_result"
    }
   ],
   "source": [
    "urls"
   ]
  },
  {
   "cell_type": "code",
   "execution_count": 31,
   "metadata": {},
   "outputs": [
    {
     "name": "stdout",
     "output_type": "stream",
     "text": [
      "data.csv download started ....\n",
      "data.csv download complete!\n",
      "test.csv download started ....\n",
      "test.csv download complete!\n",
      "train.csv download started ....\n",
      "train.csv download complete!\n",
      "CPU times: total: 0 ns\n",
      "Wall time: 1.69 s\n"
     ]
    }
   ],
   "source": [
    "%%time\n",
    "singlethread_downloads(urls)"
   ]
  },
  {
   "cell_type": "code",
   "execution_count": 33,
   "metadata": {},
   "outputs": [],
   "source": [
    "def multithread_downloads(urls: list):\n",
    "    threads = []\n",
    "    for i in urls:\n",
    "        th = Thread(target=download_single_file,args=(i,))\n",
    "        th.start()\n",
    "        threads.append(th)\n",
    "    for th in threads:\n",
    "        th.join()"
   ]
  },
  {
   "cell_type": "code",
   "execution_count": 34,
   "metadata": {},
   "outputs": [
    {
     "name": "stdout",
     "output_type": "stream",
     "text": [
      "data.csv download started ....\n",
      "test.csv download started ....\n",
      "train.csv download started ....\n",
      "test.csv download complete!\n",
      "data.csv download complete!\n",
      "train.csv download complete!\n",
      "CPU times: total: 31.2 ms\n",
      "Wall time: 1.24 s\n"
     ]
    }
   ],
   "source": [
    "%%time\n",
    "multithread_downloads(urls)"
   ]
  },
  {
   "cell_type": "code",
   "execution_count": 35,
   "metadata": {},
   "outputs": [],
   "source": [
    "import pandas as pd"
   ]
  },
  {
   "cell_type": "code",
   "execution_count": 36,
   "metadata": {},
   "outputs": [
    {
     "data": {
      "text/html": [
       "<div>\n",
       "<style scoped>\n",
       "    .dataframe tbody tr th:only-of-type {\n",
       "        vertical-align: middle;\n",
       "    }\n",
       "\n",
       "    .dataframe tbody tr th {\n",
       "        vertical-align: top;\n",
       "    }\n",
       "\n",
       "    .dataframe thead th {\n",
       "        text-align: right;\n",
       "    }\n",
       "</style>\n",
       "<table border=\"1\" class=\"dataframe\">\n",
       "  <thead>\n",
       "    <tr style=\"text-align: right;\">\n",
       "      <th></th>\n",
       "      <th>id</th>\n",
       "      <th>carat</th>\n",
       "      <th>cut</th>\n",
       "      <th>color</th>\n",
       "      <th>clarity</th>\n",
       "      <th>depth</th>\n",
       "      <th>table</th>\n",
       "      <th>x</th>\n",
       "      <th>y</th>\n",
       "      <th>z</th>\n",
       "      <th>price</th>\n",
       "    </tr>\n",
       "  </thead>\n",
       "  <tbody>\n",
       "    <tr>\n",
       "      <th>0</th>\n",
       "      <td>0</td>\n",
       "      <td>1.52</td>\n",
       "      <td>Premium</td>\n",
       "      <td>F</td>\n",
       "      <td>VS2</td>\n",
       "      <td>62.2</td>\n",
       "      <td>58.0</td>\n",
       "      <td>7.27</td>\n",
       "      <td>7.33</td>\n",
       "      <td>4.55</td>\n",
       "      <td>13619</td>\n",
       "    </tr>\n",
       "    <tr>\n",
       "      <th>1</th>\n",
       "      <td>1</td>\n",
       "      <td>2.03</td>\n",
       "      <td>Very Good</td>\n",
       "      <td>J</td>\n",
       "      <td>SI2</td>\n",
       "      <td>62.0</td>\n",
       "      <td>58.0</td>\n",
       "      <td>8.06</td>\n",
       "      <td>8.12</td>\n",
       "      <td>5.05</td>\n",
       "      <td>13387</td>\n",
       "    </tr>\n",
       "    <tr>\n",
       "      <th>2</th>\n",
       "      <td>2</td>\n",
       "      <td>0.70</td>\n",
       "      <td>Ideal</td>\n",
       "      <td>G</td>\n",
       "      <td>VS1</td>\n",
       "      <td>61.2</td>\n",
       "      <td>57.0</td>\n",
       "      <td>5.69</td>\n",
       "      <td>5.73</td>\n",
       "      <td>3.50</td>\n",
       "      <td>2772</td>\n",
       "    </tr>\n",
       "  </tbody>\n",
       "</table>\n",
       "</div>"
      ],
      "text/plain": [
       "   id  carat        cut color clarity  depth  table     x     y     z  price\n",
       "0   0   1.52    Premium     F     VS2   62.2   58.0  7.27  7.33  4.55  13619\n",
       "1   1   2.03  Very Good     J     SI2   62.0   58.0  8.06  8.12  5.05  13387\n",
       "2   2   0.70      Ideal     G     VS1   61.2   57.0  5.69  5.73  3.50   2772"
      ]
     },
     "execution_count": 36,
     "metadata": {},
     "output_type": "execute_result"
    }
   ],
   "source": [
    "df = pd.read_csv(\"data.csv\")\n",
    "df.head(3)"
   ]
  },
  {
   "cell_type": "code",
   "execution_count": 37,
   "metadata": {},
   "outputs": [
    {
     "name": "stdout",
     "output_type": "stream",
     "text": [
      "<class 'pandas.core.frame.DataFrame'>\n",
      "RangeIndex: 193573 entries, 0 to 193572\n",
      "Data columns (total 11 columns):\n",
      " #   Column   Non-Null Count   Dtype  \n",
      "---  ------   --------------   -----  \n",
      " 0   id       193573 non-null  int64  \n",
      " 1   carat    193573 non-null  float64\n",
      " 2   cut      193573 non-null  object \n",
      " 3   color    193573 non-null  object \n",
      " 4   clarity  193573 non-null  object \n",
      " 5   depth    193573 non-null  float64\n",
      " 6   table    193573 non-null  float64\n",
      " 7   x        193573 non-null  float64\n",
      " 8   y        193573 non-null  float64\n",
      " 9   z        193573 non-null  float64\n",
      " 10  price    193573 non-null  int64  \n",
      "dtypes: float64(6), int64(2), object(3)\n",
      "memory usage: 16.2+ MB\n"
     ]
    }
   ],
   "source": [
    "df.info()"
   ]
  },
  {
   "cell_type": "code",
   "execution_count": null,
   "metadata": {},
   "outputs": [],
   "source": []
  }
 ],
 "metadata": {
  "kernelspec": {
   "display_name": "venv",
   "language": "python",
   "name": "python3"
  },
  "language_info": {
   "codemirror_mode": {
    "name": "ipython",
    "version": 3
   },
   "file_extension": ".py",
   "mimetype": "text/x-python",
   "name": "python",
   "nbconvert_exporter": "python",
   "pygments_lexer": "ipython3",
   "version": "3.13.2"
  }
 },
 "nbformat": 4,
 "nbformat_minor": 2
}
