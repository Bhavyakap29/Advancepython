{
 "cells": [
  {
   "cell_type": "code",
   "execution_count": 1,
   "metadata": {},
   "outputs": [
    {
     "name": "stdout",
     "output_type": "stream",
     "text": [
      "Buddy barks!\n"
     ]
    }
   ],
   "source": [
    "class Animal:\n",
    "    def __init__(self,name):\n",
    "        self.name = name\n",
    "    \n",
    "    def speak(self):\n",
    "        pass\n",
    "\n",
    "class Dog(Animal):\n",
    "    def speak(self):\n",
    "        return f\"{self.name} barks!\"\n",
    "    \n",
    "dog = Dog(\"Buddy\")\n",
    "print(dog.speak())"
   ]
  },
  {
   "cell_type": "code",
   "execution_count": 2,
   "metadata": {},
   "outputs": [],
   "source": [
    "class Division:\n",
    "\n",
    "    def __init__(self,a,b):\n",
    "        self.n = a\n",
    "        self.d = b\n",
    "\n",
    "    def divide(self):\n",
    "        return self.n/self.d\n",
    "    \n",
    "class Modulus:\n",
    "\n",
    "    def __init__(self,a,b):\n",
    "        self.n = a\n",
    "        self.d = b\n",
    "\n",
    "    def mod_divide(self):\n",
    "        return self.n%self.d\n",
    "    \n",
    "class Div_mod(Division,Modulus):\n",
    "\n",
    "    def __init__(self, a, b):\n",
    "        self.n = a\n",
    "        self.d = b\n",
    "\n",
    "    def Div_and_mod(self):\n",
    "        divval=Division.divide(self)\n",
    "        modval=Modulus.mod_divide(self)\n",
    "        return (divval,modval)"
   ]
  },
  {
   "cell_type": "code",
   "execution_count": 3,
   "metadata": {},
   "outputs": [
    {
     "name": "stdout",
     "output_type": "stream",
     "text": [
      "division: 3.3333333333333335\n",
      "mod_division: 1\n",
      "divmod: (3.3333333333333335, 1)\n"
     ]
    }
   ],
   "source": [
    "x=Div_mod(10,3)\n",
    "print(\"division:\",x.divide())\n",
    "print(\"mod_division:\",x.mod_divide())\n",
    "print(\"divmod:\",x.Div_and_mod())"
   ]
  },
  {
   "cell_type": "code",
   "execution_count": null,
   "metadata": {},
   "outputs": [],
   "source": []
  }
 ],
 "metadata": {
  "kernelspec": {
   "display_name": "venv",
   "language": "python",
   "name": "python3"
  },
  "language_info": {
   "codemirror_mode": {
    "name": "ipython",
    "version": 3
   },
   "file_extension": ".py",
   "mimetype": "text/x-python",
   "name": "python",
   "nbconvert_exporter": "python",
   "pygments_lexer": "ipython3",
   "version": "3.13.2"
  }
 },
 "nbformat": 4,
 "nbformat_minor": 2
}
