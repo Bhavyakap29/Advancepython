{
 "cells": [
  {
   "cell_type": "code",
   "execution_count": 1,
   "metadata": {},
   "outputs": [
    {
     "data": {
      "text/plain": [
       "list"
      ]
     },
     "execution_count": 1,
     "metadata": {},
     "output_type": "execute_result"
    }
   ],
   "source": [
    "a = [1,2,3,4]\n",
    "type(a)"
   ]
  },
  {
   "cell_type": "code",
   "execution_count": 2,
   "metadata": {},
   "outputs": [
    {
     "data": {
      "text/plain": [
       "list"
      ]
     },
     "execution_count": 2,
     "metadata": {},
     "output_type": "execute_result"
    }
   ],
   "source": [
    "b = [12.5,\"Example\",2.3,True,False,\"Test\"]\n",
    "type(b)"
   ]
  },
  {
   "cell_type": "code",
   "execution_count": 3,
   "metadata": {},
   "outputs": [
    {
     "data": {
      "text/plain": [
       "[1, 2, 3, 4]"
      ]
     },
     "execution_count": 3,
     "metadata": {},
     "output_type": "execute_result"
    }
   ],
   "source": [
    "a"
   ]
  },
  {
   "cell_type": "code",
   "execution_count": 4,
   "metadata": {},
   "outputs": [],
   "source": [
    "import numpy as np"
   ]
  },
  {
   "cell_type": "code",
   "execution_count": 5,
   "metadata": {},
   "outputs": [],
   "source": [
    "a1 = np.array(a)"
   ]
  },
  {
   "cell_type": "code",
   "execution_count": 6,
   "metadata": {},
   "outputs": [
    {
     "data": {
      "text/plain": [
       "array([1, 2, 3, 4])"
      ]
     },
     "execution_count": 6,
     "metadata": {},
     "output_type": "execute_result"
    }
   ],
   "source": [
    "a1"
   ]
  },
  {
   "cell_type": "code",
   "execution_count": 7,
   "metadata": {},
   "outputs": [
    {
     "data": {
      "text/plain": [
       "1"
      ]
     },
     "execution_count": 7,
     "metadata": {},
     "output_type": "execute_result"
    }
   ],
   "source": [
    "a1.ndim"
   ]
  },
  {
   "cell_type": "code",
   "execution_count": 8,
   "metadata": {},
   "outputs": [
    {
     "data": {
      "text/plain": [
       "(4,)"
      ]
     },
     "execution_count": 8,
     "metadata": {},
     "output_type": "execute_result"
    }
   ],
   "source": [
    "a1.shape"
   ]
  },
  {
   "cell_type": "code",
   "execution_count": 9,
   "metadata": {},
   "outputs": [
    {
     "data": {
      "text/plain": [
       "dtype('int64')"
      ]
     },
     "execution_count": 9,
     "metadata": {},
     "output_type": "execute_result"
    }
   ],
   "source": [
    "a1.dtype"
   ]
  },
  {
   "cell_type": "code",
   "execution_count": 10,
   "metadata": {},
   "outputs": [
    {
     "data": {
      "text/plain": [
       "np.int64(1)"
      ]
     },
     "execution_count": 10,
     "metadata": {},
     "output_type": "execute_result"
    }
   ],
   "source": [
    "a1[0]"
   ]
  },
  {
   "cell_type": "code",
   "execution_count": 11,
   "metadata": {},
   "outputs": [
    {
     "data": {
      "text/plain": [
       "np.int64(4)"
      ]
     },
     "execution_count": 11,
     "metadata": {},
     "output_type": "execute_result"
    }
   ],
   "source": [
    "a1[-1]"
   ]
  },
  {
   "cell_type": "code",
   "execution_count": 12,
   "metadata": {},
   "outputs": [
    {
     "data": {
      "text/plain": [
       "np.int64(4)"
      ]
     },
     "execution_count": 12,
     "metadata": {},
     "output_type": "execute_result"
    }
   ],
   "source": [
    "a1[3]"
   ]
  },
  {
   "cell_type": "code",
   "execution_count": 13,
   "metadata": {},
   "outputs": [
    {
     "data": {
      "text/plain": [
       "list"
      ]
     },
     "execution_count": 13,
     "metadata": {},
     "output_type": "execute_result"
    }
   ],
   "source": [
    "b = [[2.3,1.4,2],\n",
    "     [1.4,1,3.2]]\n",
    "type(b)"
   ]
  },
  {
   "cell_type": "code",
   "execution_count": 14,
   "metadata": {},
   "outputs": [
    {
     "data": {
      "text/plain": [
       "array([[2.3, 1.4, 2. ],\n",
       "       [1.4, 1. , 3.2]])"
      ]
     },
     "execution_count": 14,
     "metadata": {},
     "output_type": "execute_result"
    }
   ],
   "source": [
    "b1 = np.array(b)\n",
    "b1"
   ]
  },
  {
   "cell_type": "code",
   "execution_count": 15,
   "metadata": {},
   "outputs": [
    {
     "data": {
      "text/plain": [
       "2"
      ]
     },
     "execution_count": 15,
     "metadata": {},
     "output_type": "execute_result"
    }
   ],
   "source": [
    "b1.ndim"
   ]
  },
  {
   "cell_type": "code",
   "execution_count": 16,
   "metadata": {},
   "outputs": [
    {
     "data": {
      "text/plain": [
       "(2, 3)"
      ]
     },
     "execution_count": 16,
     "metadata": {},
     "output_type": "execute_result"
    }
   ],
   "source": [
    "b1.shape"
   ]
  },
  {
   "cell_type": "code",
   "execution_count": 17,
   "metadata": {},
   "outputs": [
    {
     "data": {
      "text/plain": [
       "dtype('float64')"
      ]
     },
     "execution_count": 17,
     "metadata": {},
     "output_type": "execute_result"
    }
   ],
   "source": [
    "b1.dtype"
   ]
  },
  {
   "cell_type": "code",
   "execution_count": 18,
   "metadata": {},
   "outputs": [
    {
     "data": {
      "text/plain": [
       "array(['a', '1', '2', '3'], dtype='<U21')"
      ]
     },
     "execution_count": 18,
     "metadata": {},
     "output_type": "execute_result"
    }
   ],
   "source": [
    "c= [\"a\",1,2,3]\n",
    "c1 = np.array(c)\n",
    "c1"
   ]
  },
  {
   "cell_type": "code",
   "execution_count": 19,
   "metadata": {},
   "outputs": [
    {
     "data": {
      "text/plain": [
       "array([[2.3, 1.4, 2. ],\n",
       "       [1.4, 1. , 3.2]])"
      ]
     },
     "execution_count": 19,
     "metadata": {},
     "output_type": "execute_result"
    }
   ],
   "source": [
    "b1"
   ]
  },
  {
   "cell_type": "code",
   "execution_count": 20,
   "metadata": {},
   "outputs": [
    {
     "data": {
      "text/plain": [
       "np.float64(2.0)"
      ]
     },
     "execution_count": 20,
     "metadata": {},
     "output_type": "execute_result"
    }
   ],
   "source": [
    "b1[0,2]"
   ]
  },
  {
   "cell_type": "code",
   "execution_count": 21,
   "metadata": {},
   "outputs": [
    {
     "data": {
      "text/plain": [
       "list"
      ]
     },
     "execution_count": 21,
     "metadata": {},
     "output_type": "execute_result"
    }
   ],
   "source": [
    "c = [[[1,2,3,4],\n",
    "      [5,6,7,8],\n",
    "      [9,10,11,12]],\n",
    "      \n",
    "      [[30,31,32,33],\n",
    "      [34,35,36,37],\n",
    "      [38,39,40,41]]]\n",
    "type(c)"
   ]
  },
  {
   "cell_type": "code",
   "execution_count": 22,
   "metadata": {},
   "outputs": [
    {
     "data": {
      "text/plain": [
       "[[[1, 2, 3, 4], [5, 6, 7, 8], [9, 10, 11, 12]],\n",
       " [[30, 31, 32, 33], [34, 35, 36, 37], [38, 39, 40, 41]]]"
      ]
     },
     "execution_count": 22,
     "metadata": {},
     "output_type": "execute_result"
    }
   ],
   "source": [
    "c"
   ]
  },
  {
   "cell_type": "code",
   "execution_count": 23,
   "metadata": {},
   "outputs": [
    {
     "data": {
      "text/plain": [
       "array([[[ 1,  2,  3,  4],\n",
       "        [ 5,  6,  7,  8],\n",
       "        [ 9, 10, 11, 12]],\n",
       "\n",
       "       [[30, 31, 32, 33],\n",
       "        [34, 35, 36, 37],\n",
       "        [38, 39, 40, 41]]])"
      ]
     },
     "execution_count": 23,
     "metadata": {},
     "output_type": "execute_result"
    }
   ],
   "source": [
    "c1 = np.array(c)\n",
    "c1"
   ]
  },
  {
   "cell_type": "code",
   "execution_count": 24,
   "metadata": {},
   "outputs": [
    {
     "data": {
      "text/plain": [
       "3"
      ]
     },
     "execution_count": 24,
     "metadata": {},
     "output_type": "execute_result"
    }
   ],
   "source": [
    "c1.ndim"
   ]
  },
  {
   "cell_type": "code",
   "execution_count": 25,
   "metadata": {},
   "outputs": [
    {
     "data": {
      "text/plain": [
       "(2, 3, 4)"
      ]
     },
     "execution_count": 25,
     "metadata": {},
     "output_type": "execute_result"
    }
   ],
   "source": [
    "c1.shape"
   ]
  },
  {
   "cell_type": "code",
   "execution_count": 26,
   "metadata": {},
   "outputs": [
    {
     "data": {
      "text/plain": [
       "array([[ 1,  2,  3,  4],\n",
       "       [ 5,  6,  7,  8],\n",
       "       [ 9, 10, 11, 12]])"
      ]
     },
     "execution_count": 26,
     "metadata": {},
     "output_type": "execute_result"
    }
   ],
   "source": [
    "c1[0]"
   ]
  },
  {
   "cell_type": "code",
   "execution_count": 27,
   "metadata": {},
   "outputs": [
    {
     "data": {
      "text/plain": [
       "array([[30, 31, 32, 33],\n",
       "       [34, 35, 36, 37],\n",
       "       [38, 39, 40, 41]])"
      ]
     },
     "execution_count": 27,
     "metadata": {},
     "output_type": "execute_result"
    }
   ],
   "source": [
    "c1[1]"
   ]
  },
  {
   "cell_type": "code",
   "execution_count": 28,
   "metadata": {},
   "outputs": [
    {
     "data": {
      "text/plain": [
       "np.int64(35)"
      ]
     },
     "execution_count": 28,
     "metadata": {},
     "output_type": "execute_result"
    }
   ],
   "source": [
    "c1[1,1,1]"
   ]
  },
  {
   "cell_type": "code",
   "execution_count": 29,
   "metadata": {},
   "outputs": [
    {
     "data": {
      "text/plain": [
       "np.int64(12)"
      ]
     },
     "execution_count": 29,
     "metadata": {},
     "output_type": "execute_result"
    }
   ],
   "source": [
    "c1[0,2,3]"
   ]
  },
  {
   "cell_type": "code",
   "execution_count": 30,
   "metadata": {},
   "outputs": [
    {
     "data": {
      "text/plain": [
       "list"
      ]
     },
     "execution_count": 30,
     "metadata": {},
     "output_type": "execute_result"
    }
   ],
   "source": [
    "d = [11,12,13,14,15]\n",
    "type(d)"
   ]
  },
  {
   "cell_type": "code",
   "execution_count": 31,
   "metadata": {},
   "outputs": [
    {
     "data": {
      "text/plain": [
       "[11, 12, 13, 14, 15, 11, 12, 13, 14, 15, 11, 12, 13, 14, 15]"
      ]
     },
     "execution_count": 31,
     "metadata": {},
     "output_type": "execute_result"
    }
   ],
   "source": [
    "d * 3"
   ]
  },
  {
   "cell_type": "code",
   "execution_count": 32,
   "metadata": {},
   "outputs": [],
   "source": [
    "e = []\n",
    "for i in d:\n",
    "    e.append(i * 3)"
   ]
  },
  {
   "cell_type": "code",
   "execution_count": 33,
   "metadata": {},
   "outputs": [
    {
     "data": {
      "text/plain": [
       "[33, 36, 39, 42, 45]"
      ]
     },
     "execution_count": 33,
     "metadata": {},
     "output_type": "execute_result"
    }
   ],
   "source": [
    "e"
   ]
  },
  {
   "cell_type": "code",
   "execution_count": 34,
   "metadata": {},
   "outputs": [
    {
     "data": {
      "text/plain": [
       "array([11, 12, 13, 14, 15])"
      ]
     },
     "execution_count": 34,
     "metadata": {},
     "output_type": "execute_result"
    }
   ],
   "source": [
    "d1 = np.array(d)\n",
    "d1"
   ]
  },
  {
   "cell_type": "code",
   "execution_count": 35,
   "metadata": {},
   "outputs": [],
   "source": [
    "e1 = d1 * 3"
   ]
  },
  {
   "cell_type": "code",
   "execution_count": 36,
   "metadata": {},
   "outputs": [
    {
     "data": {
      "text/plain": [
       "array([33, 36, 39, 42, 45])"
      ]
     },
     "execution_count": 36,
     "metadata": {},
     "output_type": "execute_result"
    }
   ],
   "source": [
    "e1"
   ]
  },
  {
   "cell_type": "code",
   "execution_count": 37,
   "metadata": {},
   "outputs": [
    {
     "data": {
      "text/plain": [
       "array([16, 17, 18, 19, 20])"
      ]
     },
     "execution_count": 37,
     "metadata": {},
     "output_type": "execute_result"
    }
   ],
   "source": [
    "d1 + 5"
   ]
  },
  {
   "cell_type": "code",
   "execution_count": 38,
   "metadata": {},
   "outputs": [
    {
     "data": {
      "text/plain": [
       "array([49, 53, 57, 61, 65])"
      ]
     },
     "execution_count": 38,
     "metadata": {},
     "output_type": "execute_result"
    }
   ],
   "source": [
    "4*d1 + 5"
   ]
  },
  {
   "cell_type": "code",
   "execution_count": 39,
   "metadata": {},
   "outputs": [
    {
     "data": {
      "text/plain": [
       "array([121, 144, 169, 196, 225])"
      ]
     },
     "execution_count": 39,
     "metadata": {},
     "output_type": "execute_result"
    }
   ],
   "source": [
    "d1**2"
   ]
  },
  {
   "cell_type": "code",
   "execution_count": 40,
   "metadata": {},
   "outputs": [],
   "source": [
    "s1 = d1**(1/2)"
   ]
  },
  {
   "cell_type": "code",
   "execution_count": 41,
   "metadata": {},
   "outputs": [
    {
     "data": {
      "text/plain": [
       "array([3.31662479, 3.46410162, 3.60555128, 3.74165739, 3.87298335])"
      ]
     },
     "execution_count": 41,
     "metadata": {},
     "output_type": "execute_result"
    }
   ],
   "source": [
    "s1"
   ]
  },
  {
   "cell_type": "code",
   "execution_count": 42,
   "metadata": {},
   "outputs": [
    {
     "data": {
      "text/plain": [
       "list"
      ]
     },
     "execution_count": 42,
     "metadata": {},
     "output_type": "execute_result"
    }
   ],
   "source": [
    "g = [51,101,48,49,50,53]\n",
    "type(g)"
   ]
  },
  {
   "cell_type": "code",
   "execution_count": 43,
   "metadata": {},
   "outputs": [],
   "source": [
    "p = 1\n",
    "for i in g:\n",
    "    p = p * i"
   ]
  },
  {
   "cell_type": "code",
   "execution_count": 44,
   "metadata": {},
   "outputs": [
    {
     "data": {
      "text/plain": [
       "32105152800"
      ]
     },
     "execution_count": 44,
     "metadata": {},
     "output_type": "execute_result"
    }
   ],
   "source": [
    "p"
   ]
  },
  {
   "cell_type": "code",
   "execution_count": 45,
   "metadata": {},
   "outputs": [
    {
     "data": {
      "text/plain": [
       "352"
      ]
     },
     "execution_count": 45,
     "metadata": {},
     "output_type": "execute_result"
    }
   ],
   "source": [
    "sum(g)"
   ]
  },
  {
   "cell_type": "code",
   "execution_count": 46,
   "metadata": {},
   "outputs": [
    {
     "data": {
      "text/plain": [
       "np.int64(32105152800)"
      ]
     },
     "execution_count": 46,
     "metadata": {},
     "output_type": "execute_result"
    }
   ],
   "source": [
    "p1 = np.prod(g)\n",
    "p1"
   ]
  },
  {
   "cell_type": "code",
   "execution_count": 47,
   "metadata": {},
   "outputs": [
    {
     "data": {
      "text/plain": [
       "array([[ 78,  56,  34, 101],\n",
       "       [123,  10,  53,  11],\n",
       "       [ 12,  13,  11,   2]])"
      ]
     },
     "execution_count": 47,
     "metadata": {},
     "output_type": "execute_result"
    }
   ],
   "source": [
    "h1 = np.array([[78, 56, 34, 101],\n",
    "               [123, 10, 53, 11],\n",
    "               [12, 13, 11, 2]])\n",
    "h1"
   ]
  },
  {
   "cell_type": "code",
   "execution_count": 48,
   "metadata": {},
   "outputs": [
    {
     "data": {
      "text/plain": [
       "2"
      ]
     },
     "execution_count": 48,
     "metadata": {},
     "output_type": "execute_result"
    }
   ],
   "source": [
    "h1.ndim"
   ]
  },
  {
   "cell_type": "code",
   "execution_count": 49,
   "metadata": {},
   "outputs": [
    {
     "data": {
      "text/plain": [
       "(3, 4)"
      ]
     },
     "execution_count": 49,
     "metadata": {},
     "output_type": "execute_result"
    }
   ],
   "source": [
    "h1.shape"
   ]
  },
  {
   "cell_type": "code",
   "execution_count": 50,
   "metadata": {},
   "outputs": [
    {
     "data": {
      "text/plain": [
       "np.int64(504)"
      ]
     },
     "execution_count": 50,
     "metadata": {},
     "output_type": "execute_result"
    }
   ],
   "source": [
    "np.sum(h1)"
   ]
  },
  {
   "cell_type": "code",
   "execution_count": 51,
   "metadata": {},
   "outputs": [
    {
     "data": {
      "text/plain": [
       "np.int64(504)"
      ]
     },
     "execution_count": 51,
     "metadata": {},
     "output_type": "execute_result"
    }
   ],
   "source": [
    "h1.sum()"
   ]
  },
  {
   "cell_type": "code",
   "execution_count": 52,
   "metadata": {},
   "outputs": [
    {
     "data": {
      "text/plain": [
       "array([213,  79,  98, 114])"
      ]
     },
     "execution_count": 52,
     "metadata": {},
     "output_type": "execute_result"
    }
   ],
   "source": [
    "h1.sum(axis=0)"
   ]
  },
  {
   "cell_type": "code",
   "execution_count": 53,
   "metadata": {},
   "outputs": [
    {
     "data": {
      "text/plain": [
       "array([269, 197,  38])"
      ]
     },
     "execution_count": 53,
     "metadata": {},
     "output_type": "execute_result"
    }
   ],
   "source": [
    "h1.sum(axis=1)"
   ]
  },
  {
   "cell_type": "code",
   "execution_count": 54,
   "metadata": {},
   "outputs": [
    {
     "data": {
      "text/plain": [
       "np.float64(42.0)"
      ]
     },
     "execution_count": 54,
     "metadata": {},
     "output_type": "execute_result"
    }
   ],
   "source": [
    "h1.mean()"
   ]
  },
  {
   "cell_type": "code",
   "execution_count": 55,
   "metadata": {},
   "outputs": [
    {
     "data": {
      "text/plain": [
       "np.int64(123)"
      ]
     },
     "execution_count": 55,
     "metadata": {},
     "output_type": "execute_result"
    }
   ],
   "source": [
    "h1.max()"
   ]
  },
  {
   "cell_type": "code",
   "execution_count": 56,
   "metadata": {},
   "outputs": [
    {
     "data": {
      "text/plain": [
       "array([123,  56,  53, 101])"
      ]
     },
     "execution_count": 56,
     "metadata": {},
     "output_type": "execute_result"
    }
   ],
   "source": [
    "h1.max(axis=0)"
   ]
  },
  {
   "cell_type": "code",
   "execution_count": 57,
   "metadata": {},
   "outputs": [
    {
     "data": {
      "text/plain": [
       "array([101, 123,  13])"
      ]
     },
     "execution_count": 57,
     "metadata": {},
     "output_type": "execute_result"
    }
   ],
   "source": [
    "h1.max(axis=1)"
   ]
  },
  {
   "cell_type": "code",
   "execution_count": 58,
   "metadata": {},
   "outputs": [
    {
     "data": {
      "text/plain": [
       "np.float64(38.73628789649313)"
      ]
     },
     "execution_count": 58,
     "metadata": {},
     "output_type": "execute_result"
    }
   ],
   "source": [
    "h1.std()"
   ]
  },
  {
   "cell_type": "code",
   "execution_count": 59,
   "metadata": {},
   "outputs": [
    {
     "data": {
      "text/plain": [
       "array([12, 10, 11,  2])"
      ]
     },
     "execution_count": 59,
     "metadata": {},
     "output_type": "execute_result"
    }
   ],
   "source": [
    "h1.min(axis=0)"
   ]
  },
  {
   "cell_type": "code",
   "execution_count": 60,
   "metadata": {},
   "outputs": [
    {
     "data": {
      "text/plain": [
       "array([34, 10,  2])"
      ]
     },
     "execution_count": 60,
     "metadata": {},
     "output_type": "execute_result"
    }
   ],
   "source": [
    "h1.min(axis=1)"
   ]
  },
  {
   "cell_type": "code",
   "execution_count": 61,
   "metadata": {},
   "outputs": [
    {
     "data": {
      "text/plain": [
       "np.float64(38.73628789649313)"
      ]
     },
     "execution_count": 61,
     "metadata": {},
     "output_type": "execute_result"
    }
   ],
   "source": [
    "h1.std()"
   ]
  },
  {
   "cell_type": "code",
   "execution_count": 62,
   "metadata": {},
   "outputs": [
    {
     "data": {
      "text/plain": [
       "np.int64(36915084416770560)"
      ]
     },
     "execution_count": 62,
     "metadata": {},
     "output_type": "execute_result"
    }
   ],
   "source": [
    "h1.prod()"
   ]
  },
  {
   "cell_type": "code",
   "execution_count": 63,
   "metadata": {},
   "outputs": [
    {
     "data": {
      "text/plain": [
       "array([115128,   7280,  19822,   2222])"
      ]
     },
     "execution_count": 63,
     "metadata": {},
     "output_type": "execute_result"
    }
   ],
   "source": [
    "h1.prod(axis=0)"
   ]
  },
  {
   "cell_type": "code",
   "execution_count": 64,
   "metadata": {},
   "outputs": [
    {
     "data": {
      "text/plain": [
       "array([14999712,   717090,     3432])"
      ]
     },
     "execution_count": 64,
     "metadata": {},
     "output_type": "execute_result"
    }
   ],
   "source": [
    "h1.prod(axis=1)"
   ]
  },
  {
   "cell_type": "code",
   "execution_count": 65,
   "metadata": {},
   "outputs": [
    {
     "data": {
      "text/plain": [
       "list"
      ]
     },
     "execution_count": 65,
     "metadata": {},
     "output_type": "execute_result"
    }
   ],
   "source": [
    "a = list(range(1,1001))\n",
    "type(a)"
   ]
  },
  {
   "cell_type": "code",
   "execution_count": 66,
   "metadata": {},
   "outputs": [
    {
     "data": {
      "text/plain": [
       "[2, 5, 8, 11, 14]"
      ]
     },
     "execution_count": 66,
     "metadata": {},
     "output_type": "execute_result"
    }
   ],
   "source": [
    "list(range(2,17,3))"
   ]
  },
  {
   "cell_type": "code",
   "execution_count": 67,
   "metadata": {},
   "outputs": [
    {
     "ename": "TypeError",
     "evalue": "'float' object cannot be interpreted as an integer",
     "output_type": "error",
     "traceback": [
      "\u001b[1;31m---------------------------------------------------------------------------\u001b[0m",
      "\u001b[1;31mTypeError\u001b[0m                                 Traceback (most recent call last)",
      "Cell \u001b[1;32mIn[67], line 1\u001b[0m\n\u001b[1;32m----> 1\u001b[0m \u001b[38;5;28mlist\u001b[39m(\u001b[38;5;28;43mrange\u001b[39;49m\u001b[43m(\u001b[49m\u001b[38;5;241;43m0.1\u001b[39;49m\u001b[43m,\u001b[49m\u001b[38;5;241;43m10\u001b[39;49m\u001b[43m,\u001b[49m\u001b[38;5;241;43m0.2\u001b[39;49m\u001b[43m)\u001b[49m)\n",
      "\u001b[1;31mTypeError\u001b[0m: 'float' object cannot be interpreted as an integer"
     ]
    }
   ],
   "source": [
    "list(range(0.1,10,0.2))"
   ]
  },
  {
   "cell_type": "code",
   "execution_count": 68,
   "metadata": {},
   "outputs": [
    {
     "data": {
      "text/plain": [
       "array([0.1, 0.3, 0.5, 0.7, 0.9, 1.1, 1.3, 1.5, 1.7, 1.9, 2.1, 2.3, 2.5,\n",
       "       2.7, 2.9, 3.1, 3.3, 3.5, 3.7, 3.9, 4.1, 4.3, 4.5, 4.7, 4.9, 5.1,\n",
       "       5.3, 5.5, 5.7, 5.9, 6.1, 6.3, 6.5, 6.7, 6.9, 7.1, 7.3, 7.5, 7.7,\n",
       "       7.9, 8.1, 8.3, 8.5, 8.7, 8.9, 9.1, 9.3, 9.5, 9.7, 9.9])"
      ]
     },
     "execution_count": 68,
     "metadata": {},
     "output_type": "execute_result"
    }
   ],
   "source": [
    "r = np.arange(start=0.1, stop=10.1, step=0.2)\n",
    "r"
   ]
  },
  {
   "cell_type": "code",
   "execution_count": 69,
   "metadata": {},
   "outputs": [
    {
     "data": {
      "text/plain": [
       "array([1.0000e+00, 1.5000e+00, 2.0000e+00, ..., 9.9985e+03, 9.9990e+03,\n",
       "       9.9995e+03], shape=(19998,))"
      ]
     },
     "execution_count": 69,
     "metadata": {},
     "output_type": "execute_result"
    }
   ],
   "source": [
    "r2 = np.arange(1,10000,0.5)\n",
    "r2"
   ]
  },
  {
   "cell_type": "code",
   "execution_count": 70,
   "metadata": {},
   "outputs": [
    {
     "data": {
      "text/plain": [
       "(19998,)"
      ]
     },
     "execution_count": 70,
     "metadata": {},
     "output_type": "execute_result"
    }
   ],
   "source": [
    "r2.shape"
   ]
  },
  {
   "cell_type": "code",
   "execution_count": 71,
   "metadata": {},
   "outputs": [
    {
     "data": {
      "text/plain": [
       "np.float64(99994999.5)"
      ]
     },
     "execution_count": 71,
     "metadata": {},
     "output_type": "execute_result"
    }
   ],
   "source": [
    "r2.sum()"
   ]
  },
  {
   "cell_type": "code",
   "execution_count": 72,
   "metadata": {},
   "outputs": [
    {
     "data": {
      "text/plain": [
       "np.float64(5000.25)"
      ]
     },
     "execution_count": 72,
     "metadata": {},
     "output_type": "execute_result"
    }
   ],
   "source": [
    "r2.mean()"
   ]
  },
  {
   "cell_type": "code",
   "execution_count": 73,
   "metadata": {},
   "outputs": [
    {
     "data": {
      "text/plain": [
       "array([ 2.,  4.,  6.,  8., 10.])"
      ]
     },
     "execution_count": 73,
     "metadata": {},
     "output_type": "execute_result"
    }
   ],
   "source": [
    "r3 = np.linspace(2,10,5)\n",
    "r3"
   ]
  },
  {
   "cell_type": "code",
   "execution_count": 74,
   "metadata": {},
   "outputs": [
    {
     "data": {
      "text/plain": [
       "array([ 5.1       ,  5.10510511,  5.11021021,  5.11531532,  5.12042042,\n",
       "        5.12552553,  5.13063063,  5.13573574,  5.14084084,  5.14594595,\n",
       "        5.15105105,  5.15615616,  5.16126126,  5.16636637,  5.17147147,\n",
       "        5.17657658,  5.18168168,  5.18678679,  5.19189189,  5.196997  ,\n",
       "        5.2021021 ,  5.20720721,  5.21231231,  5.21741742,  5.22252252,\n",
       "        5.22762763,  5.23273273,  5.23783784,  5.24294294,  5.24804805,\n",
       "        5.25315315,  5.25825826,  5.26336336,  5.26846847,  5.27357357,\n",
       "        5.27867868,  5.28378378,  5.28888889,  5.29399399,  5.2990991 ,\n",
       "        5.3042042 ,  5.30930931,  5.31441441,  5.31951952,  5.32462462,\n",
       "        5.32972973,  5.33483483,  5.33993994,  5.34504505,  5.35015015,\n",
       "        5.35525526,  5.36036036,  5.36546547,  5.37057057,  5.37567568,\n",
       "        5.38078078,  5.38588589,  5.39099099,  5.3960961 ,  5.4012012 ,\n",
       "        5.40630631,  5.41141141,  5.41651652,  5.42162162,  5.42672673,\n",
       "        5.43183183,  5.43693694,  5.44204204,  5.44714715,  5.45225225,\n",
       "        5.45735736,  5.46246246,  5.46756757,  5.47267267,  5.47777778,\n",
       "        5.48288288,  5.48798799,  5.49309309,  5.4981982 ,  5.5033033 ,\n",
       "        5.50840841,  5.51351351,  5.51861862,  5.52372372,  5.52882883,\n",
       "        5.53393393,  5.53903904,  5.54414414,  5.54924925,  5.55435435,\n",
       "        5.55945946,  5.56456456,  5.56966967,  5.57477477,  5.57987988,\n",
       "        5.58498498,  5.59009009,  5.5951952 ,  5.6003003 ,  5.60540541,\n",
       "        5.61051051,  5.61561562,  5.62072072,  5.62582583,  5.63093093,\n",
       "        5.63603604,  5.64114114,  5.64624625,  5.65135135,  5.65645646,\n",
       "        5.66156156,  5.66666667,  5.67177177,  5.67687688,  5.68198198,\n",
       "        5.68708709,  5.69219219,  5.6972973 ,  5.7024024 ,  5.70750751,\n",
       "        5.71261261,  5.71771772,  5.72282282,  5.72792793,  5.73303303,\n",
       "        5.73813814,  5.74324324,  5.74834835,  5.75345345,  5.75855856,\n",
       "        5.76366366,  5.76876877,  5.77387387,  5.77897898,  5.78408408,\n",
       "        5.78918919,  5.79429429,  5.7993994 ,  5.8045045 ,  5.80960961,\n",
       "        5.81471471,  5.81981982,  5.82492492,  5.83003003,  5.83513514,\n",
       "        5.84024024,  5.84534535,  5.85045045,  5.85555556,  5.86066066,\n",
       "        5.86576577,  5.87087087,  5.87597598,  5.88108108,  5.88618619,\n",
       "        5.89129129,  5.8963964 ,  5.9015015 ,  5.90660661,  5.91171171,\n",
       "        5.91681682,  5.92192192,  5.92702703,  5.93213213,  5.93723724,\n",
       "        5.94234234,  5.94744745,  5.95255255,  5.95765766,  5.96276276,\n",
       "        5.96786787,  5.97297297,  5.97807808,  5.98318318,  5.98828829,\n",
       "        5.99339339,  5.9984985 ,  6.0036036 ,  6.00870871,  6.01381381,\n",
       "        6.01891892,  6.02402402,  6.02912913,  6.03423423,  6.03933934,\n",
       "        6.04444444,  6.04954955,  6.05465465,  6.05975976,  6.06486486,\n",
       "        6.06996997,  6.07507508,  6.08018018,  6.08528529,  6.09039039,\n",
       "        6.0954955 ,  6.1006006 ,  6.10570571,  6.11081081,  6.11591592,\n",
       "        6.12102102,  6.12612613,  6.13123123,  6.13633634,  6.14144144,\n",
       "        6.14654655,  6.15165165,  6.15675676,  6.16186186,  6.16696697,\n",
       "        6.17207207,  6.17717718,  6.18228228,  6.18738739,  6.19249249,\n",
       "        6.1975976 ,  6.2027027 ,  6.20780781,  6.21291291,  6.21801802,\n",
       "        6.22312312,  6.22822823,  6.23333333,  6.23843844,  6.24354354,\n",
       "        6.24864865,  6.25375375,  6.25885886,  6.26396396,  6.26906907,\n",
       "        6.27417417,  6.27927928,  6.28438438,  6.28948949,  6.29459459,\n",
       "        6.2996997 ,  6.3048048 ,  6.30990991,  6.31501502,  6.32012012,\n",
       "        6.32522523,  6.33033033,  6.33543544,  6.34054054,  6.34564565,\n",
       "        6.35075075,  6.35585586,  6.36096096,  6.36606607,  6.37117117,\n",
       "        6.37627628,  6.38138138,  6.38648649,  6.39159159,  6.3966967 ,\n",
       "        6.4018018 ,  6.40690691,  6.41201201,  6.41711712,  6.42222222,\n",
       "        6.42732733,  6.43243243,  6.43753754,  6.44264264,  6.44774775,\n",
       "        6.45285285,  6.45795796,  6.46306306,  6.46816817,  6.47327327,\n",
       "        6.47837838,  6.48348348,  6.48858859,  6.49369369,  6.4987988 ,\n",
       "        6.5039039 ,  6.50900901,  6.51411411,  6.51921922,  6.52432432,\n",
       "        6.52942943,  6.53453453,  6.53963964,  6.54474474,  6.54984985,\n",
       "        6.55495495,  6.56006006,  6.56516517,  6.57027027,  6.57537538,\n",
       "        6.58048048,  6.58558559,  6.59069069,  6.5957958 ,  6.6009009 ,\n",
       "        6.60600601,  6.61111111,  6.61621622,  6.62132132,  6.62642643,\n",
       "        6.63153153,  6.63663664,  6.64174174,  6.64684685,  6.65195195,\n",
       "        6.65705706,  6.66216216,  6.66726727,  6.67237237,  6.67747748,\n",
       "        6.68258258,  6.68768769,  6.69279279,  6.6978979 ,  6.703003  ,\n",
       "        6.70810811,  6.71321321,  6.71831832,  6.72342342,  6.72852853,\n",
       "        6.73363363,  6.73873874,  6.74384384,  6.74894895,  6.75405405,\n",
       "        6.75915916,  6.76426426,  6.76936937,  6.77447447,  6.77957958,\n",
       "        6.78468468,  6.78978979,  6.79489489,  6.8       ,  6.80510511,\n",
       "        6.81021021,  6.81531532,  6.82042042,  6.82552553,  6.83063063,\n",
       "        6.83573574,  6.84084084,  6.84594595,  6.85105105,  6.85615616,\n",
       "        6.86126126,  6.86636637,  6.87147147,  6.87657658,  6.88168168,\n",
       "        6.88678679,  6.89189189,  6.896997  ,  6.9021021 ,  6.90720721,\n",
       "        6.91231231,  6.91741742,  6.92252252,  6.92762763,  6.93273273,\n",
       "        6.93783784,  6.94294294,  6.94804805,  6.95315315,  6.95825826,\n",
       "        6.96336336,  6.96846847,  6.97357357,  6.97867868,  6.98378378,\n",
       "        6.98888889,  6.99399399,  6.9990991 ,  7.0042042 ,  7.00930931,\n",
       "        7.01441441,  7.01951952,  7.02462462,  7.02972973,  7.03483483,\n",
       "        7.03993994,  7.04504505,  7.05015015,  7.05525526,  7.06036036,\n",
       "        7.06546547,  7.07057057,  7.07567568,  7.08078078,  7.08588589,\n",
       "        7.09099099,  7.0960961 ,  7.1012012 ,  7.10630631,  7.11141141,\n",
       "        7.11651652,  7.12162162,  7.12672673,  7.13183183,  7.13693694,\n",
       "        7.14204204,  7.14714715,  7.15225225,  7.15735736,  7.16246246,\n",
       "        7.16756757,  7.17267267,  7.17777778,  7.18288288,  7.18798799,\n",
       "        7.19309309,  7.1981982 ,  7.2033033 ,  7.20840841,  7.21351351,\n",
       "        7.21861862,  7.22372372,  7.22882883,  7.23393393,  7.23903904,\n",
       "        7.24414414,  7.24924925,  7.25435435,  7.25945946,  7.26456456,\n",
       "        7.26966967,  7.27477477,  7.27987988,  7.28498498,  7.29009009,\n",
       "        7.2951952 ,  7.3003003 ,  7.30540541,  7.31051051,  7.31561562,\n",
       "        7.32072072,  7.32582583,  7.33093093,  7.33603604,  7.34114114,\n",
       "        7.34624625,  7.35135135,  7.35645646,  7.36156156,  7.36666667,\n",
       "        7.37177177,  7.37687688,  7.38198198,  7.38708709,  7.39219219,\n",
       "        7.3972973 ,  7.4024024 ,  7.40750751,  7.41261261,  7.41771772,\n",
       "        7.42282282,  7.42792793,  7.43303303,  7.43813814,  7.44324324,\n",
       "        7.44834835,  7.45345345,  7.45855856,  7.46366366,  7.46876877,\n",
       "        7.47387387,  7.47897898,  7.48408408,  7.48918919,  7.49429429,\n",
       "        7.4993994 ,  7.5045045 ,  7.50960961,  7.51471471,  7.51981982,\n",
       "        7.52492492,  7.53003003,  7.53513514,  7.54024024,  7.54534535,\n",
       "        7.55045045,  7.55555556,  7.56066066,  7.56576577,  7.57087087,\n",
       "        7.57597598,  7.58108108,  7.58618619,  7.59129129,  7.5963964 ,\n",
       "        7.6015015 ,  7.60660661,  7.61171171,  7.61681682,  7.62192192,\n",
       "        7.62702703,  7.63213213,  7.63723724,  7.64234234,  7.64744745,\n",
       "        7.65255255,  7.65765766,  7.66276276,  7.66786787,  7.67297297,\n",
       "        7.67807808,  7.68318318,  7.68828829,  7.69339339,  7.6984985 ,\n",
       "        7.7036036 ,  7.70870871,  7.71381381,  7.71891892,  7.72402402,\n",
       "        7.72912913,  7.73423423,  7.73933934,  7.74444444,  7.74954955,\n",
       "        7.75465465,  7.75975976,  7.76486486,  7.76996997,  7.77507508,\n",
       "        7.78018018,  7.78528529,  7.79039039,  7.7954955 ,  7.8006006 ,\n",
       "        7.80570571,  7.81081081,  7.81591592,  7.82102102,  7.82612613,\n",
       "        7.83123123,  7.83633634,  7.84144144,  7.84654655,  7.85165165,\n",
       "        7.85675676,  7.86186186,  7.86696697,  7.87207207,  7.87717718,\n",
       "        7.88228228,  7.88738739,  7.89249249,  7.8975976 ,  7.9027027 ,\n",
       "        7.90780781,  7.91291291,  7.91801802,  7.92312312,  7.92822823,\n",
       "        7.93333333,  7.93843844,  7.94354354,  7.94864865,  7.95375375,\n",
       "        7.95885886,  7.96396396,  7.96906907,  7.97417417,  7.97927928,\n",
       "        7.98438438,  7.98948949,  7.99459459,  7.9996997 ,  8.0048048 ,\n",
       "        8.00990991,  8.01501502,  8.02012012,  8.02522523,  8.03033033,\n",
       "        8.03543544,  8.04054054,  8.04564565,  8.05075075,  8.05585586,\n",
       "        8.06096096,  8.06606607,  8.07117117,  8.07627628,  8.08138138,\n",
       "        8.08648649,  8.09159159,  8.0966967 ,  8.1018018 ,  8.10690691,\n",
       "        8.11201201,  8.11711712,  8.12222222,  8.12732733,  8.13243243,\n",
       "        8.13753754,  8.14264264,  8.14774775,  8.15285285,  8.15795796,\n",
       "        8.16306306,  8.16816817,  8.17327327,  8.17837838,  8.18348348,\n",
       "        8.18858859,  8.19369369,  8.1987988 ,  8.2039039 ,  8.20900901,\n",
       "        8.21411411,  8.21921922,  8.22432432,  8.22942943,  8.23453453,\n",
       "        8.23963964,  8.24474474,  8.24984985,  8.25495495,  8.26006006,\n",
       "        8.26516517,  8.27027027,  8.27537538,  8.28048048,  8.28558559,\n",
       "        8.29069069,  8.2957958 ,  8.3009009 ,  8.30600601,  8.31111111,\n",
       "        8.31621622,  8.32132132,  8.32642643,  8.33153153,  8.33663664,\n",
       "        8.34174174,  8.34684685,  8.35195195,  8.35705706,  8.36216216,\n",
       "        8.36726727,  8.37237237,  8.37747748,  8.38258258,  8.38768769,\n",
       "        8.39279279,  8.3978979 ,  8.403003  ,  8.40810811,  8.41321321,\n",
       "        8.41831832,  8.42342342,  8.42852853,  8.43363363,  8.43873874,\n",
       "        8.44384384,  8.44894895,  8.45405405,  8.45915916,  8.46426426,\n",
       "        8.46936937,  8.47447447,  8.47957958,  8.48468468,  8.48978979,\n",
       "        8.49489489,  8.5       ,  8.50510511,  8.51021021,  8.51531532,\n",
       "        8.52042042,  8.52552553,  8.53063063,  8.53573574,  8.54084084,\n",
       "        8.54594595,  8.55105105,  8.55615616,  8.56126126,  8.56636637,\n",
       "        8.57147147,  8.57657658,  8.58168168,  8.58678679,  8.59189189,\n",
       "        8.596997  ,  8.6021021 ,  8.60720721,  8.61231231,  8.61741742,\n",
       "        8.62252252,  8.62762763,  8.63273273,  8.63783784,  8.64294294,\n",
       "        8.64804805,  8.65315315,  8.65825826,  8.66336336,  8.66846847,\n",
       "        8.67357357,  8.67867868,  8.68378378,  8.68888889,  8.69399399,\n",
       "        8.6990991 ,  8.7042042 ,  8.70930931,  8.71441441,  8.71951952,\n",
       "        8.72462462,  8.72972973,  8.73483483,  8.73993994,  8.74504505,\n",
       "        8.75015015,  8.75525526,  8.76036036,  8.76546547,  8.77057057,\n",
       "        8.77567568,  8.78078078,  8.78588589,  8.79099099,  8.7960961 ,\n",
       "        8.8012012 ,  8.80630631,  8.81141141,  8.81651652,  8.82162162,\n",
       "        8.82672673,  8.83183183,  8.83693694,  8.84204204,  8.84714715,\n",
       "        8.85225225,  8.85735736,  8.86246246,  8.86756757,  8.87267267,\n",
       "        8.87777778,  8.88288288,  8.88798799,  8.89309309,  8.8981982 ,\n",
       "        8.9033033 ,  8.90840841,  8.91351351,  8.91861862,  8.92372372,\n",
       "        8.92882883,  8.93393393,  8.93903904,  8.94414414,  8.94924925,\n",
       "        8.95435435,  8.95945946,  8.96456456,  8.96966967,  8.97477477,\n",
       "        8.97987988,  8.98498498,  8.99009009,  8.9951952 ,  9.0003003 ,\n",
       "        9.00540541,  9.01051051,  9.01561562,  9.02072072,  9.02582583,\n",
       "        9.03093093,  9.03603604,  9.04114114,  9.04624625,  9.05135135,\n",
       "        9.05645646,  9.06156156,  9.06666667,  9.07177177,  9.07687688,\n",
       "        9.08198198,  9.08708709,  9.09219219,  9.0972973 ,  9.1024024 ,\n",
       "        9.10750751,  9.11261261,  9.11771772,  9.12282282,  9.12792793,\n",
       "        9.13303303,  9.13813814,  9.14324324,  9.14834835,  9.15345345,\n",
       "        9.15855856,  9.16366366,  9.16876877,  9.17387387,  9.17897898,\n",
       "        9.18408408,  9.18918919,  9.19429429,  9.1993994 ,  9.2045045 ,\n",
       "        9.20960961,  9.21471471,  9.21981982,  9.22492492,  9.23003003,\n",
       "        9.23513514,  9.24024024,  9.24534535,  9.25045045,  9.25555556,\n",
       "        9.26066066,  9.26576577,  9.27087087,  9.27597598,  9.28108108,\n",
       "        9.28618619,  9.29129129,  9.2963964 ,  9.3015015 ,  9.30660661,\n",
       "        9.31171171,  9.31681682,  9.32192192,  9.32702703,  9.33213213,\n",
       "        9.33723724,  9.34234234,  9.34744745,  9.35255255,  9.35765766,\n",
       "        9.36276276,  9.36786787,  9.37297297,  9.37807808,  9.38318318,\n",
       "        9.38828829,  9.39339339,  9.3984985 ,  9.4036036 ,  9.40870871,\n",
       "        9.41381381,  9.41891892,  9.42402402,  9.42912913,  9.43423423,\n",
       "        9.43933934,  9.44444444,  9.44954955,  9.45465465,  9.45975976,\n",
       "        9.46486486,  9.46996997,  9.47507508,  9.48018018,  9.48528529,\n",
       "        9.49039039,  9.4954955 ,  9.5006006 ,  9.50570571,  9.51081081,\n",
       "        9.51591592,  9.52102102,  9.52612613,  9.53123123,  9.53633634,\n",
       "        9.54144144,  9.54654655,  9.55165165,  9.55675676,  9.56186186,\n",
       "        9.56696697,  9.57207207,  9.57717718,  9.58228228,  9.58738739,\n",
       "        9.59249249,  9.5975976 ,  9.6027027 ,  9.60780781,  9.61291291,\n",
       "        9.61801802,  9.62312312,  9.62822823,  9.63333333,  9.63843844,\n",
       "        9.64354354,  9.64864865,  9.65375375,  9.65885886,  9.66396396,\n",
       "        9.66906907,  9.67417417,  9.67927928,  9.68438438,  9.68948949,\n",
       "        9.69459459,  9.6996997 ,  9.7048048 ,  9.70990991,  9.71501502,\n",
       "        9.72012012,  9.72522523,  9.73033033,  9.73543544,  9.74054054,\n",
       "        9.74564565,  9.75075075,  9.75585586,  9.76096096,  9.76606607,\n",
       "        9.77117117,  9.77627628,  9.78138138,  9.78648649,  9.79159159,\n",
       "        9.7966967 ,  9.8018018 ,  9.80690691,  9.81201201,  9.81711712,\n",
       "        9.82222222,  9.82732733,  9.83243243,  9.83753754,  9.84264264,\n",
       "        9.84774775,  9.85285285,  9.85795796,  9.86306306,  9.86816817,\n",
       "        9.87327327,  9.87837838,  9.88348348,  9.88858859,  9.89369369,\n",
       "        9.8987988 ,  9.9039039 ,  9.90900901,  9.91411411,  9.91921922,\n",
       "        9.92432432,  9.92942943,  9.93453453,  9.93963964,  9.94474474,\n",
       "        9.94984985,  9.95495495,  9.96006006,  9.96516517,  9.97027027,\n",
       "        9.97537538,  9.98048048,  9.98558559,  9.99069069,  9.9957958 ,\n",
       "       10.0009009 , 10.00600601, 10.01111111, 10.01621622, 10.02132132,\n",
       "       10.02642643, 10.03153153, 10.03663664, 10.04174174, 10.04684685,\n",
       "       10.05195195, 10.05705706, 10.06216216, 10.06726727, 10.07237237,\n",
       "       10.07747748, 10.08258258, 10.08768769, 10.09279279, 10.0978979 ,\n",
       "       10.103003  , 10.10810811, 10.11321321, 10.11831832, 10.12342342,\n",
       "       10.12852853, 10.13363363, 10.13873874, 10.14384384, 10.14894895,\n",
       "       10.15405405, 10.15915916, 10.16426426, 10.16936937, 10.17447447,\n",
       "       10.17957958, 10.18468468, 10.18978979, 10.19489489, 10.2       ])"
      ]
     },
     "execution_count": 74,
     "metadata": {},
     "output_type": "execute_result"
    }
   ],
   "source": [
    "r4 = np.linspace(5.1,10.2,1000)\n",
    "r4"
   ]
  },
  {
   "cell_type": "code",
   "execution_count": 75,
   "metadata": {},
   "outputs": [
    {
     "data": {
      "text/plain": [
       "np.float64(1.4737161664782465)"
      ]
     },
     "execution_count": 75,
     "metadata": {},
     "output_type": "execute_result"
    }
   ],
   "source": [
    "r4.std()"
   ]
  },
  {
   "cell_type": "code",
   "execution_count": 76,
   "metadata": {},
   "outputs": [
    {
     "data": {
      "text/plain": [
       "0.0901712948670822"
      ]
     },
     "execution_count": 76,
     "metadata": {},
     "output_type": "execute_result"
    }
   ],
   "source": [
    "g1 = np.random.random()\n",
    "g1"
   ]
  },
  {
   "cell_type": "code",
   "execution_count": 77,
   "metadata": {},
   "outputs": [
    {
     "data": {
      "text/plain": [
       "array([0.54691088, 0.69362955, 0.26908994, 0.2515571 , 0.79801219,\n",
       "       0.41741378, 0.27197335, 0.14739776, 0.54802631, 0.18884706])"
      ]
     },
     "execution_count": 77,
     "metadata": {},
     "output_type": "execute_result"
    }
   ],
   "source": [
    "g2 = np.random.random(size=10)\n",
    "g2"
   ]
  },
  {
   "cell_type": "code",
   "execution_count": 78,
   "metadata": {},
   "outputs": [
    {
     "data": {
      "text/plain": [
       "array([0.98151067, 0.35549211, 0.09252743, ..., 0.63844545, 0.22126727,\n",
       "       0.69996796], shape=(100000,))"
      ]
     },
     "execution_count": 78,
     "metadata": {},
     "output_type": "execute_result"
    }
   ],
   "source": [
    "g3 = np.random.random(size=1_00_000)\n",
    "g3"
   ]
  },
  {
   "cell_type": "code",
   "execution_count": 79,
   "metadata": {},
   "outputs": [
    {
     "data": {
      "text/plain": [
       "(100000,)"
      ]
     },
     "execution_count": 79,
     "metadata": {},
     "output_type": "execute_result"
    }
   ],
   "source": [
    "g3.shape"
   ]
  },
  {
   "cell_type": "code",
   "execution_count": 80,
   "metadata": {},
   "outputs": [
    {
     "data": {
      "text/plain": [
       "array([0.9633632 , 0.12637464, 0.00856133, ..., 0.40761259, 0.0489592 ,\n",
       "       0.48995515], shape=(100000,))"
      ]
     },
     "execution_count": 80,
     "metadata": {},
     "output_type": "execute_result"
    }
   ],
   "source": [
    "g3**2"
   ]
  },
  {
   "cell_type": "code",
   "execution_count": 81,
   "metadata": {},
   "outputs": [
    {
     "data": {
      "text/plain": [
       "2"
      ]
     },
     "execution_count": 81,
     "metadata": {},
     "output_type": "execute_result"
    }
   ],
   "source": [
    "np.random.randint(low=1,high=7)"
   ]
  },
  {
   "cell_type": "code",
   "execution_count": 82,
   "metadata": {},
   "outputs": [
    {
     "data": {
      "text/plain": [
       "array([4, 1, 1, 3, 4, 2, 2, 6, 2, 6, 6, 3, 5, 1, 2, 5, 3, 2, 5, 2, 3, 2,\n",
       "       1, 1, 1, 3, 4, 6, 1, 5, 5, 3, 3, 4, 4, 6, 6, 6, 5, 6, 5, 3, 1, 6,\n",
       "       3, 1, 6, 6, 5, 6, 1, 2, 5, 4, 6, 1, 4, 3, 4, 4, 3, 5, 3, 6, 2, 3,\n",
       "       2, 4, 2, 5, 3, 6, 1, 4, 6, 1, 4, 5, 4, 5, 6, 2, 4, 3, 4, 1, 2, 3,\n",
       "       5, 5, 2, 1, 1, 2, 6, 6, 2, 2, 2, 4], dtype=int32)"
      ]
     },
     "execution_count": 82,
     "metadata": {},
     "output_type": "execute_result"
    }
   ],
   "source": [
    "dice = np.random.randint(low=1,high=7,size=100)\n",
    "dice"
   ]
  },
  {
   "cell_type": "code",
   "execution_count": 83,
   "metadata": {},
   "outputs": [
    {
     "data": {
      "text/plain": [
       "5.35136044719214"
      ]
     },
     "execution_count": 83,
     "metadata": {},
     "output_type": "execute_result"
    }
   ],
   "source": [
    "np.random.normal(loc=5.5, scale=0.5/3)"
   ]
  },
  {
   "cell_type": "code",
   "execution_count": 84,
   "metadata": {},
   "outputs": [
    {
     "data": {
      "text/plain": [
       "array([5.50724287, 5.68031712, 5.4379529 , ..., 5.51001546, 5.71180536,\n",
       "       5.80793447], shape=(100000,))"
      ]
     },
     "execution_count": 84,
     "metadata": {},
     "output_type": "execute_result"
    }
   ],
   "source": [
    "heights = np.random.normal(loc=5.5, scale=0.5/3, size=100000)\n",
    "heights"
   ]
  },
  {
   "cell_type": "code",
   "execution_count": 85,
   "metadata": {},
   "outputs": [
    {
     "data": {
      "text/plain": [
       "(100000,)"
      ]
     },
     "execution_count": 85,
     "metadata": {},
     "output_type": "execute_result"
    }
   ],
   "source": [
    "heights.shape"
   ]
  },
  {
   "cell_type": "code",
   "execution_count": 86,
   "metadata": {},
   "outputs": [
    {
     "data": {
      "text/plain": [
       "<Axes: ylabel='Count'>"
      ]
     },
     "execution_count": 86,
     "metadata": {},
     "output_type": "execute_result"
    },
    {
     "data": {
      "image/png": "[encoded data removed]",
      "text/plain": [
       "<Figure size 640x480 with 1 Axes>"
      ]
     },
     "metadata": {},
     "output_type": "display_data"
    }
   ],
   "source": [
    "import seaborn as sns\n",
    "sns.histplot(heights, kde=True)"
   ]
  },
  {
   "cell_type": "code",
   "execution_count": 87,
   "metadata": {},
   "outputs": [
    {
     "data": {
      "text/plain": [
       "array([0.1046918 , 0.75890455, 0.69771034, 0.61113519, 0.99451825,\n",
       "       0.0580166 , 0.33624825, 0.87736995, 0.91043517, 0.5941005 ,\n",
       "       0.19646786, 0.78989182, 0.16810836, 0.34641735, 0.17911601,\n",
       "       0.40707547, 0.94844279, 0.9828431 , 0.52452332, 0.08958005,\n",
       "       0.7188976 , 0.73883087, 0.74056904, 0.60637713, 0.64488478,\n",
       "       0.29038571, 0.62907577, 0.50915505, 0.98846682, 0.18553868,\n",
       "       0.30683981, 0.72855449, 0.02524703, 0.51740247, 0.05572398,\n",
       "       0.17327106, 0.73291032, 0.86123895, 0.54127868, 0.75859313,\n",
       "       0.21287621, 0.64825074, 0.69090802, 0.88353189, 0.77542349,\n",
       "       0.70138617, 0.98501398, 0.30755656, 0.19301682, 0.06979465,\n",
       "       0.03439042, 0.43814961, 0.80375743, 0.9685305 , 0.27709157,\n",
       "       0.62501921, 0.96333817, 0.06158375, 0.03118332, 0.30746434,\n",
       "       0.99398093, 0.29441053, 0.09953151, 0.15466824, 0.55419506,\n",
       "       0.26774145, 0.25321056, 0.87586627, 0.5928683 , 0.38699725,\n",
       "       0.01109651, 0.73183827, 0.57200951, 0.94602529, 0.19862631,\n",
       "       0.1570412 , 0.74242921, 0.9489592 , 0.36007453, 0.40765932,\n",
       "       0.75991675, 0.34930111, 0.51749327, 0.658902  , 0.87667709,\n",
       "       0.64109877, 0.1272541 , 0.21689036, 0.00558087, 0.91549426,\n",
       "       0.43440687, 0.15521426, 0.14199747, 0.99431734, 0.74867002,\n",
       "       0.28524045, 0.48974089, 0.85986224, 0.69664104, 0.27297136])"
      ]
     },
     "execution_count": 87,
     "metadata": {},
     "output_type": "execute_result"
    }
   ],
   "source": [
    "a = np.random.random(size=100)\n",
    "a"
   ]
  },
  {
   "cell_type": "code",
   "execution_count": 88,
   "metadata": {},
   "outputs": [
    {
     "data": {
      "text/plain": [
       "array([0.32356112, 0.87115128, 0.83529057, 0.78175136, 0.99725536,\n",
       "       0.24086635, 0.57986916, 0.93668028, 0.95416727, 0.77077915,\n",
       "       0.44324695, 0.88875858, 0.41001019, 0.5885723 , 0.423221  ,\n",
       "       0.63802466, 0.97388027, 0.99138444, 0.72423982, 0.29929927,\n",
       "       0.84787829, 0.85955271, 0.86056321, 0.77870221, 0.80304719,\n",
       "       0.53887449, 0.79314297, 0.71355101, 0.99421669, 0.43074201,\n",
       "       0.55393123, 0.85355404, 0.15889313, 0.71930694, 0.23605927,\n",
       "       0.41625841, 0.85610182, 0.92802961, 0.73571644, 0.87097252,\n",
       "       0.4613851 , 0.8051402 , 0.83120877, 0.93996377, 0.88058134,\n",
       "       0.83748801, 0.99247871, 0.55457782, 0.43933679, 0.26418678,\n",
       "       0.18544654, 0.6619287 , 0.8965252 , 0.98413947, 0.52639488,\n",
       "       0.79058156, 0.98149792, 0.24816073, 0.17658799, 0.55449467,\n",
       "       0.99698592, 0.5425961 , 0.31548614, 0.39327883, 0.74444278,\n",
       "       0.51743738, 0.50320032, 0.93587727, 0.76997942, 0.62209103,\n",
       "       0.10533997, 0.85547547, 0.7563131 , 0.97263832, 0.44567511,\n",
       "       0.39628425, 0.86164332, 0.97414537, 0.6000621 , 0.63848205,\n",
       "       0.87173204, 0.59101701, 0.71937005, 0.81172778, 0.93631036,\n",
       "       0.80068644, 0.35672693, 0.46571489, 0.07470522, 0.95681464,\n",
       "       0.6590955 , 0.39397241, 0.37682551, 0.99715462, 0.8652572 ,\n",
       "       0.53407907, 0.6998149 , 0.92728757, 0.83465025, 0.52246661])"
      ]
     },
     "execution_count": 88,
     "metadata": {},
     "output_type": "execute_result"
    }
   ],
   "source": [
    "np.sqrt(a)"
   ]
  },
  {
   "cell_type": "code",
   "execution_count": 89,
   "metadata": {},
   "outputs": [
    {
     "data": {
      "text/plain": [
       "np.float64(2.718281828459045)"
      ]
     },
     "execution_count": 89,
     "metadata": {},
     "output_type": "execute_result"
    }
   ],
   "source": [
    "np.exp(1)"
   ]
  },
  {
   "cell_type": "code",
   "execution_count": 90,
   "metadata": {},
   "outputs": [
    {
     "data": {
      "text/plain": [
       "np.float64(7.38905609893065)"
      ]
     },
     "execution_count": 90,
     "metadata": {},
     "output_type": "execute_result"
    }
   ],
   "source": [
    "np.exp(2)"
   ]
  },
  {
   "cell_type": "code",
   "execution_count": 91,
   "metadata": {},
   "outputs": [
    {
     "data": {
      "text/plain": [
       "array([1.11036834, 2.13593512, 2.00914718, 1.84252182, 2.70342166,\n",
       "       1.05973258, 1.39968645, 2.40456726, 2.48540387, 1.81140086,\n",
       "       1.2170962 , 2.20315807, 1.1830648 , 1.41399262, 1.19615951,\n",
       "       1.50241748, 2.58168629, 2.67204234, 1.68965324, 1.09371488,\n",
       "       2.05216964, 2.09348652, 2.09712852, 1.83377582, 1.90576744,\n",
       "       1.33694306, 1.87587604, 1.6638847 , 2.68711149, 1.20386676,\n",
       "       1.35912323, 2.07208323, 1.02556843, 1.67766421, 1.05730581,\n",
       "       1.1891884 , 2.08112855, 2.36609034, 1.71820249, 2.13527006,\n",
       "       1.23723148, 1.91219298, 1.9955267 , 2.41942978, 2.17151155,\n",
       "       2.01654605, 2.67784932, 1.36009774, 1.21290319, 1.07228797,\n",
       "       1.03498861, 1.54983676, 2.23391898, 2.63407085, 1.31928718,\n",
       "       1.86828184, 2.62042934, 1.06351956, 1.03167461, 1.35997231,\n",
       "       2.70196944, 1.34233486, 1.10465327, 1.16727064, 1.74053939,\n",
       "       1.30700916, 1.28815448, 2.40095426, 1.80917023, 1.47255245,\n",
       "       1.0111583 , 2.07889868, 1.77182397, 2.57545262, 1.21972608,\n",
       "       1.17004382, 2.10103318, 2.58301986, 1.43343624, 1.50329494,\n",
       "       2.13809823, 1.41807612, 1.67781655, 1.93266909, 2.40290179,\n",
       "       1.89856583, 1.13570556, 1.2422079 , 1.00559647, 2.49800961,\n",
       "       1.54404697, 1.16790817, 1.15257373, 2.70287857, 2.11418632,\n",
       "       1.33008181, 1.63189333, 2.36283516, 2.00699993, 1.31386262])"
      ]
     },
     "execution_count": 91,
     "metadata": {},
     "output_type": "execute_result"
    }
   ],
   "source": [
    "np.exp(a)"
   ]
  },
  {
   "cell_type": "code",
   "execution_count": 92,
   "metadata": {},
   "outputs": [
    {
     "data": {
      "text/plain": [
       "array([-2.25673447, -0.27587927, -0.35995124, -0.49243709, -0.00549683,\n",
       "       -2.84702616, -1.08990556, -0.13082653, -0.09383258, -0.52070678,\n",
       "       -1.62725645, -0.23585928, -1.78314652, -1.06011102, -1.71972156,\n",
       "       -0.89875669, -0.05293381, -0.01730578, -0.64526539, -2.41262263,\n",
       "       -0.33003636, -0.30268625, -0.30033642, -0.50025316, -0.43868361,\n",
       "       -1.2365452 , -0.46350357, -0.6750027 , -0.0116002 , -1.68449191,\n",
       "       -1.18142947, -0.31669285, -3.67904691, -0.65893423, -2.8873447 ,\n",
       "       -1.75289809, -0.31073193, -0.14938329, -0.61382101, -0.27628971,\n",
       "       -1.54704447, -0.43347772, -0.36974857, -0.1238279 , -0.25434596,\n",
       "       -0.35469666, -0.01509944, -1.17909627, -1.64497796, -2.66219787,\n",
       "       -3.36997727, -0.82519486, -0.21845776, -0.0319753 , -1.28340724,\n",
       "       -0.4699729 , -0.03735076, -2.78735731, -3.46787198, -1.17939617,\n",
       "       -0.00603726, -1.22278013, -2.30728103, -1.86647285, -0.59023856,\n",
       "       -1.31773352, -1.37353389, -0.13254186, -0.52278299, -0.94933768,\n",
       "       -4.50112475, -0.31219573, -0.55859967, -0.05548597, -1.61633007,\n",
       "       -1.85124706, -0.29782775, -0.05238947, -1.02144425, -0.89732344,\n",
       "       -0.27454638, -1.05182095, -0.65875875, -0.41718047, -0.13161656,\n",
       "       -0.44457174, -2.0615694 , -1.5283633 , -5.18841053, -0.08829119,\n",
       "       -0.83377369, -1.86294881, -1.95194606, -0.00569886, -0.28945695,\n",
       "       -1.25442277, -0.71387882, -0.15098309, -0.36148501, -1.29838839])"
      ]
     },
     "execution_count": 92,
     "metadata": {},
     "output_type": "execute_result"
    }
   ],
   "source": [
    "np.log(a)"
   ]
  },
  {
   "cell_type": "code",
   "execution_count": 93,
   "metadata": {},
   "outputs": [],
   "source": [
    "angle_deg = [0,30,45,60,90,120,180]"
   ]
  },
  {
   "cell_type": "code",
   "execution_count": 94,
   "metadata": {},
   "outputs": [
    {
     "data": {
      "text/plain": [
       "array([0.        , 0.52359878, 0.78539816, 1.04719755, 1.57079633,\n",
       "       2.0943951 , 3.14159265])"
      ]
     },
     "execution_count": 94,
     "metadata": {},
     "output_type": "execute_result"
    }
   ],
   "source": [
    "angle_rad = np.radians(angle_deg)\n",
    "angle_rad"
   ]
  },
  {
   "cell_type": "code",
   "execution_count": 95,
   "metadata": {},
   "outputs": [
    {
     "data": {
      "text/plain": [
       "array([0.00000000e+00, 5.00000000e-01, 7.07106781e-01, 8.66025404e-01,\n",
       "       1.00000000e+00, 8.66025404e-01, 1.22464680e-16])"
      ]
     },
     "execution_count": 95,
     "metadata": {},
     "output_type": "execute_result"
    }
   ],
   "source": [
    "np.sin(angle_rad)"
   ]
  },
  {
   "cell_type": "code",
   "execution_count": 96,
   "metadata": {},
   "outputs": [
    {
     "data": {
      "text/plain": [
       "array([ 1.00000000e+00,  8.66025404e-01,  7.07106781e-01,  5.00000000e-01,\n",
       "        6.12323400e-17, -5.00000000e-01, -1.00000000e+00])"
      ]
     },
     "execution_count": 96,
     "metadata": {},
     "output_type": "execute_result"
    }
   ],
   "source": [
    "np.cos(angle_rad)"
   ]
  },
  {
   "cell_type": "code",
   "execution_count": 97,
   "metadata": {},
   "outputs": [
    {
     "data": {
      "text/plain": [
       "array([ 0.00000000e+00,  5.77350269e-01,  1.00000000e+00,  1.73205081e+00,\n",
       "        1.63312394e+16, -1.73205081e+00, -1.22464680e-16])"
      ]
     },
     "execution_count": 97,
     "metadata": {},
     "output_type": "execute_result"
    }
   ],
   "source": [
    "np.tan(angle_rad)"
   ]
  },
  {
   "cell_type": "code",
   "execution_count": null,
   "metadata": {},
   "outputs": [],
   "source": []
  }
 ],
 "metadata": {
  "kernelspec": {
   "display_name": "venv",
   "language": "python",
   "name": "python3"
  },
  "language_info": {
   "codemirror_mode": {
    "name": "ipython",
    "version": 3
   },
   "file_extension": ".py",
   "mimetype": "text/x-python",
   "name": "python",
   "nbconvert_exporter": "python",
   "pygments_lexer": "ipython3",
   "version": "3.13.2"
  }
 },
 "nbformat": 4,
 "nbformat_minor": 2
}
