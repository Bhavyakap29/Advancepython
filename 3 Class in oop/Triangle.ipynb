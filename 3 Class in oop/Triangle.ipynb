{
 "cells": [
  {
   "cell_type": "markdown",
   "metadata": {},
   "source": [
    "### create class Triangle with 3 sides\n",
    "#triangle inequality sum of any two sides should be greater than third\n",
    "#perimeter is sum of all sides\n",
    "#herons formula"
   ]
  },
  {
   "cell_type": "code",
   "execution_count": 39,
   "metadata": {},
   "outputs": [],
   "source": [
    "import math"
   ]
  },
  {
   "cell_type": "code",
   "execution_count": 40,
   "metadata": {},
   "outputs": [],
   "source": [
    "from dataclasses import dataclass"
   ]
  },
  {
   "cell_type": "code",
   "execution_count": 41,
   "metadata": {},
   "outputs": [],
   "source": [
    "@dataclass\n",
    "class Triangle:\n",
    "    def __init__(self,side1,side2,side3):\n",
    "        self.side1 = side1\n",
    "        self.side2 = side2\n",
    "        self.side3 = side3\n",
    "    # sides form a triangle\n",
    "    def is_triangle(self):\n",
    "         if (self.side1 + self.side2 > self.side3) and (self.side1 + self.side3 > self.side2) and (self.side2 + self.side3 > self.side1):\n",
    "             return True\n",
    "         else:\n",
    "             return False\n",
    "    def perimeter(self):\n",
    "        if self.is_triangle():\n",
    "            p = self.side1 + self.side2 + self.side3\n",
    "            return p\n",
    "        else:\n",
    "            raise ValueError(f\"Given sides {self.side1},{self.side2},{self.side3} do not form a triangle\")\n",
    "        \n",
    "    def area(self):\n",
    "        s = self.perimeter()/2\n",
    "        a = math.sqrt(s * (s - self.side1) * (s - self.side2) * (s - self.side3))**(1/2)\n",
    "        return a\n",
    "\n",
    "     "
   ]
  },
  {
   "cell_type": "code",
   "execution_count": 42,
   "metadata": {},
   "outputs": [
    {
     "data": {
      "text/plain": [
       "Triangle()"
      ]
     },
     "execution_count": 42,
     "metadata": {},
     "output_type": "execute_result"
    }
   ],
   "source": [
    "t1 = Triangle(side1=2,side2=3,side3=4)\n",
    "t1"
   ]
  },
  {
   "cell_type": "code",
   "execution_count": 49,
   "metadata": {},
   "outputs": [
    {
     "data": {
      "text/plain": [
       "True"
      ]
     },
     "execution_count": 49,
     "metadata": {},
     "output_type": "execute_result"
    }
   ],
   "source": [
    "t1.is_triangle()"
   ]
  },
  {
   "cell_type": "code",
   "execution_count": 44,
   "metadata": {},
   "outputs": [
    {
     "data": {
      "text/plain": [
       "9"
      ]
     },
     "execution_count": 44,
     "metadata": {},
     "output_type": "execute_result"
    }
   ],
   "source": [
    "t1.perimeter()"
   ]
  },
  {
   "cell_type": "code",
   "execution_count": 45,
   "metadata": {},
   "outputs": [
    {
     "data": {
      "text/plain": [
       "1.704329049701249"
      ]
     },
     "execution_count": 45,
     "metadata": {},
     "output_type": "execute_result"
    }
   ],
   "source": [
    "t1.area()"
   ]
  },
  {
   "cell_type": "code",
   "execution_count": 46,
   "metadata": {},
   "outputs": [
    {
     "data": {
      "text/plain": [
       "2"
      ]
     },
     "execution_count": 46,
     "metadata": {},
     "output_type": "execute_result"
    }
   ],
   "source": [
    "t1.side1"
   ]
  },
  {
   "cell_type": "code",
   "execution_count": 47,
   "metadata": {},
   "outputs": [
    {
     "data": {
      "text/plain": [
       "3"
      ]
     },
     "execution_count": 47,
     "metadata": {},
     "output_type": "execute_result"
    }
   ],
   "source": [
    "t1.side2"
   ]
  },
  {
   "cell_type": "code",
   "execution_count": 48,
   "metadata": {},
   "outputs": [
    {
     "data": {
      "text/plain": [
       "4"
      ]
     },
     "execution_count": 48,
     "metadata": {},
     "output_type": "execute_result"
    }
   ],
   "source": [
    "t1.side3"
   ]
  },
  {
   "cell_type": "code",
   "execution_count": 52,
   "metadata": {},
   "outputs": [],
   "source": [
    "#calculating perimeter and area for multiple triangles"
   ]
  },
  {
   "cell_type": "code",
   "execution_count": 53,
   "metadata": {},
   "outputs": [],
   "source": [
    "t1 = Triangle(3, 4, 5)\n",
    "t2 = Triangle(12, 13, 14)\n",
    "t3 = Triangle(4, 5, 7)\n",
    "t4 = Triangle(1, 2, 2)"
   ]
  },
  {
   "cell_type": "code",
   "execution_count": 54,
   "metadata": {},
   "outputs": [
    {
     "data": {
      "text/plain": [
       "[Triangle(), Triangle(), Triangle(), Triangle()]"
      ]
     },
     "execution_count": 54,
     "metadata": {},
     "output_type": "execute_result"
    }
   ],
   "source": [
    "t = [t1,t2,t3,t4]\n",
    "t"
   ]
  },
  {
   "cell_type": "code",
   "execution_count": 55,
   "metadata": {},
   "outputs": [
    {
     "name": "stdout",
     "output_type": "stream",
     "text": [
      "Triangle()\n",
      "Is triangle : True\n",
      "Perimeter of triangle : 12.00\n",
      "Area of triangle : 2.45\n",
      "\n",
      "========================================================\n",
      "\n",
      "Triangle()\n",
      "Is triangle : True\n",
      "Perimeter of triangle : 39.00\n",
      "Area of triangle : 8.50\n",
      "\n",
      "========================================================\n",
      "\n",
      "Triangle()\n",
      "Is triangle : True\n",
      "Perimeter of triangle : 16.00\n",
      "Area of triangle : 3.13\n",
      "\n",
      "========================================================\n",
      "\n",
      "Triangle()\n",
      "Is triangle : True\n",
      "Perimeter of triangle : 5.00\n",
      "Area of triangle : 0.98\n",
      "\n",
      "========================================================\n",
      "\n"
     ]
    }
   ],
   "source": [
    "for i in t:\n",
    "    print(i)\n",
    "    print(f\"Is triangle : {i.is_triangle()}\")\n",
    "    print(f\"Perimeter of triangle : {i.perimeter():.2f}\")\n",
    "    print(f\"Area of triangle : {i.area():.2f}\")\n",
    "    print(\"\\n========================================================\\n\")"
   ]
  },
  {
   "cell_type": "code",
   "execution_count": null,
   "metadata": {},
   "outputs": [],
   "source": []
  }
 ],
 "metadata": {
  "kernelspec": {
   "display_name": "venv",
   "language": "python",
   "name": "python3"
  },
  "language_info": {
   "codemirror_mode": {
    "name": "ipython",
    "version": 3
   },
   "file_extension": ".py",
   "mimetype": "text/x-python",
   "name": "python",
   "nbconvert_exporter": "python",
   "pygments_lexer": "ipython3",
   "version": "3.13.2"
  }
 },
 "nbformat": 4,
 "nbformat_minor": 2
}
